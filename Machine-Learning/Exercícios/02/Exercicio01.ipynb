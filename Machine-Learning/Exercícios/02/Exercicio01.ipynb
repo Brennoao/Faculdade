{
 "cells": [
  {
   "cell_type": "markdown",
   "metadata": {},
   "source": [
    "<div style=\"background-color: red;\n",
    "            padding: 25px; \n",
    "            color: white; \n",
    "            font-size: 24px;\">\n",
    "    <b>IESB</b> - Centro Universitário de Brasília\n",
    "    \n",
    "</div>\n",
    "<div style=\"background-color: OrangeRed;\n",
    "            padding: 11px; \n",
    "            color: white; \n",
    "            font-size: 11px;\">\n",
    "    <b>Curso:</b> Análise e Desenvolvimento de Sistemas\n",
    "    \n",
    "</div>\n",
    "\n",
    "## Disciplina aprendizado de Máquina (ML)\n",
    "\n",
    "**Autor**:    Brenno Alves de Oliveira <br>\n",
    "**Matricula** 21214290011 | **Turma** OADSN5A <br>\n",
    "**Objetivo**: Introdução a linguagem python:exercícios<br>\n",
    "**Bimestre**: 1º Bimestre 2023<br>\n",
    "\n",
    "**Data criação**:  23/09/2023 <br>\n",
    "**Data Alteração**: xx/xx/xxx  <br>\n",
    "**Alteração Feita**:  xxxxxxxxxxx<br>\n",
    "**Resp. pela alteração**: xxxxxxx<br>\n",
    "\n",
    "<b><i>Versão: 1.0</i></b>"
   ]
  },
  {
   "cell_type": "markdown",
   "metadata": {},
   "source": [
    "1) Escreva um programa que solicite ao usuário um número e, em seguida, use um loop \"for\" para imprimir a tabuada desse número de 1 a 10."
   ]
  },
  {
   "cell_type": "code",
   "execution_count": 7,
   "metadata": {},
   "outputs": [
    {
     "name": "stdout",
     "output_type": "stream",
     "text": [
      "Tabuada do Número 10\n",
      "10 x 1 = 10\n",
      "10 x 2 = 20\n",
      "10 x 3 = 30\n",
      "10 x 4 = 40\n",
      "10 x 5 = 50\n",
      "10 x 6 = 60\n",
      "10 x 7 = 70\n",
      "10 x 8 = 80\n",
      "10 x 9 = 90\n",
      "10 x 10 = 100\n",
      "essa foi a tabuada do número 10\n"
     ]
    }
   ],
   "source": [
    "numero = int(input(\"Digite seu número:\"))\n",
    "\n",
    "print(f'Tabuada do Número {numero}')\n",
    "\n",
    "for i in range(1, 11):\n",
    "    resultado = numero * i\n",
    "    print(f'{numero} x {i} = {resultado}')\n",
    "\n",
    "print(f'Essa foi a tabuada do número {numero}')"
   ]
  },
  {
   "cell_type": "markdown",
   "metadata": {},
   "source": [
    "2) Crie um programa que receba uma lista de números e use um loop \"for\" para calcular a média dos números ímpares na lista."
   ]
  },
  {
   "cell_type": "code",
   "execution_count": 12,
   "metadata": {},
   "outputs": [
    {
     "name": "stdout",
     "output_type": "stream",
     "text": [
      "A média dos números ímpares é: 2.0\n"
     ]
    }
   ],
   "source": [
    "numero = [1, 1, 0, 2, 3, 3]\n",
    "\n",
    "soma = 0\n",
    "contador = 0\n",
    "\n",
    "for num in numero:\n",
    "    if num % 2 != 0:\n",
    "        soma += num\n",
    "        contador += 1\n",
    "\n",
    "media = soma / contador if contador > 0 else 0\n",
    "\n",
    "print(f'A média dos números ímpares é: {media}' )"
   ]
  },
  {
   "cell_type": "markdown",
   "metadata": {},
   "source": [
    "3) Desenvolva um programa que gere os primeiros \"n\" números primos, onde \"n\" é fornecido pelo usuário. Use um loop \"for\" para encontrar e imprimir os números primos."
   ]
  },
  {
   "cell_type": "code",
   "execution_count": 45,
   "metadata": {},
   "outputs": [
    {
     "name": "stdout",
     "output_type": "stream",
     "text": [
      "O número primo é 2\n",
      "O número primo é 3\n"
     ]
    }
   ],
   "source": [
    "# definir uma funcao para verificar se um numero e primo\n",
    "def eh_primo(n):\n",
    "    # se o numero for menor que 2, ele nao e primo\n",
    "    if n < 2:\n",
    "        return False\n",
    "    # se o numero for 2, ele e primo\n",
    "    if n == 2:\n",
    "        return True\n",
    "    # se o numero for par, ele não e primo\n",
    "    if n % 2 == 0:\n",
    "        return False\n",
    "    # usar um loop for para testar os divisores impares de 3 ate a raiz quadrada do numero\n",
    "    for i in range(3, int(n**0.5) + 1, 2):\n",
    "        # se o numero for divisivel por algum divisor, ele nao e primo\n",
    "        if n % i == 0:\n",
    "            return False\n",
    "    # se nenhum divisor foi encontrado, o numero e primo\n",
    "    return True\n",
    "\n",
    "# solicitar ao usuario o valor de n\n",
    "n = int(input(\"Digite o valor de n: \"))\n",
    "\n",
    "# inicializar uma variavel para contar quantos numeros primos foram gerados\n",
    "contagem = 0\n",
    "\n",
    "# inicializar uma variavel para representar o numero atual a ser testado\n",
    "numero = 2\n",
    "\n",
    "# usar um loop while para gerar os primeiros n numeros primos\n",
    "while contagem < n:\n",
    "    # verificar se o numero atual e primo usando a funcao definida anteriormente\n",
    "    if eh_primo(numero):\n",
    "        # Imprimir o numero primo\n",
    "        print(f\"O número primo é {numero}\")\n",
    "        # incrementar a contagem dos numeros primos gerados\n",
    "        contagem += 1\n",
    "    # incrementar o numero atual para testar o proximo candidato a primo\n",
    "    numero += 1\n"
   ]
  },
  {
   "cell_type": "markdown",
   "metadata": {},
   "source": [
    "4) Crie um programa que receba uma lista de palavras e use um loop \"for\" para encontrar a palavra mais longa na lista."
   ]
  },
  {
   "cell_type": "code",
   "execution_count": 20,
   "metadata": {},
   "outputs": [
    {
     "name": "stdout",
     "output_type": "stream",
     "text": [
      "A palavra com mais caracteres é: paralelepipedo\n"
     ]
    }
   ],
   "source": [
    "word = ['brenno', 'rodrigo', 'nada', 'paralelepipedo']\n",
    "\n",
    "for words in word:\n",
    "    test = ''\n",
    "    if(len(words) > len(test)):\n",
    "        test = words\n",
    "\n",
    "print(f'A palavra com mais caracteres é: {words}')"
   ]
  },
  {
   "cell_type": "markdown",
   "metadata": {},
   "source": [
    "5) Escreva um programa que leia uma lista de números e use um loop \"for\" para encontrar o segundo maior número na lista."
   ]
  },
  {
   "cell_type": "code",
   "execution_count": 41,
   "metadata": {},
   "outputs": [
    {
     "name": "stdout",
     "output_type": "stream",
     "text": [
      "O segundo maior número é: 9\n"
     ]
    }
   ],
   "source": [
    "numero = [2, 4, 1, 9, 10, 5]\n",
    "\n",
    "bigger = max(numero[0], numero[1])\n",
    "second_largest = min(numero[0], numero[1])\n",
    "\n",
    "for num in numero[2:]:\n",
    "    if num > bigger:\n",
    "        second_largest = bigger\n",
    "        bigger = num\n",
    "    elif num > second_largest and num != bigger:\n",
    "        segundo_maior = num\n",
    "\n",
    "print(f'O segundo maior número é: {second_largest}')\n"
   ]
  },
  {
   "cell_type": "markdown",
   "metadata": {},
   "source": [
    "6) Crie um programa que peça ao usuário para adivinhar um número secreto (por exemplo, 42). Use um loop \"while\" para continuar pedindo palpites até que o usuário acerte o número."
   ]
  },
  {
   "cell_type": "code",
   "execution_count": 34,
   "metadata": {},
   "outputs": [
    {
     "name": "stdout",
     "output_type": "stream",
     "text": [
      "você conseguiu parabens\n"
     ]
    }
   ],
   "source": [
    "value = int(input('Vamos começar o Game'))\n",
    "\n",
    "while value != 43:\n",
    "    value = int(input('Tente novamente'))\n",
    "\n",
    "print('você conseguiu parabens')"
   ]
  },
  {
   "cell_type": "markdown",
   "metadata": {},
   "source": [
    "7) Escreva um programa que calcule quantos termos de uma sequência Fibonacci são necessários para atingir ou exceder um valor fornecido pelo usuário. Use um loop \"while\" para fazer esse cálculo."
   ]
  },
  {
   "cell_type": "code",
   "execution_count": 47,
   "metadata": {},
   "outputs": [
    {
     "name": "stdout",
     "output_type": "stream",
     "text": [
      "Número de termos para atingir ou exceder 20: 9\n"
     ]
    }
   ],
   "source": [
    "def fibonacci_sequence(n):\n",
    "    fib_sequence = [0, 1]\n",
    "\n",
    "    while len(fib_sequence) < n:\n",
    "        next_term = fib_sequence[-1] + fib_sequence[-2]\n",
    "        fib_sequence.append(next_term)\n",
    "\n",
    "    return fib_sequence\n",
    "\n",
    "# Solicita ao usuário o valor limite\n",
    "valor_limite = int(input(\"Digite o valor limite para a sequência Fibonacci: \"))\n",
    "\n",
    "# Inicializa o contador de termos\n",
    "contador_termos = 0\n",
    "\n",
    "# Inicializa o valor do último termo\n",
    "ultimo_termo = 0\n",
    "\n",
    "# Calcula os termos da sequência até atingir ou exceder o valor limite\n",
    "while ultimo_termo <= valor_limite:\n",
    "    contador_termos += 1\n",
    "    ultimo_termo = fibonacci_sequence(contador_termos)[-1]\n",
    "\n",
    "print(f'Número de termos para atingir ou exceder {valor_limite}: {contador_termos}')\n"
   ]
  },
  {
   "cell_type": "markdown",
   "metadata": {},
   "source": [
    "8) Implemente um programa que peça ao usuário para adivinhar uma palavra secreta, dando dicas após cada tentativa. Use um loop \"for\" para limitar o número de tentativas e um loop \"while\" para pedir palpites até que o número máximo de tentativas seja atingido."
   ]
  },
  {
   "cell_type": "code",
   "execution_count": 49,
   "metadata": {},
   "outputs": [
    {
     "name": "stdout",
     "output_type": "stream",
     "text": [
      "Bem-vindo ao jogo de adivinhação!\n"
     ]
    },
    {
     "name": "stdout",
     "output_type": "stream",
     "text": [
      "Parabéns! Você acertou a palavra.\n"
     ]
    }
   ],
   "source": [
    "# Palavra secreta que o usuário deve adivinhar\n",
    "palavra_secreta = \"python\"\n",
    "\n",
    "# Número máximo de tentativas\n",
    "tentativas_maximas = 5\n",
    "\n",
    "print(\"Bem-vindo ao jogo de adivinhação!\")\n",
    "\n",
    "for tentativa in range(tentativas_maximas):\n",
    "    # Pede ao usuário para fazer uma tentativa\n",
    "    palpite = input(\"Tente adivinhar a palavra: \")\n",
    "\n",
    "    # Verifica se o palpite está correto\n",
    "    if palpite.lower() == palavra_secreta:\n",
    "        print(\"Parabéns! Você acertou a palavra.\")\n",
    "        break\n",
    "    else:\n",
    "        # Dá uma dica ao usuário\n",
    "        print(\"Palpite incorreto. Tente novamente.\")\n",
    "\n",
    "# Se o loop terminar sem acerto, o programa informa que acabaram as tentativa\n",
    "else:\n",
    "    print(\"Você excedeu o número máximo de tentativas. A palavra secreta era:\", palavra_secreta)\n"
   ]
  },
  {
   "cell_type": "markdown",
   "metadata": {},
   "source": [
    "9) Desenvolva um programa que simule um jogo de adivinhação em que o computador escolhe um número aleatório e o jogador tem que adivinhar. Use um loop \"for\" para limitar o número de tentativas e um loop \"while\" para pedir palpites até que o jogador acerte ou esgote as tentativas."
   ]
  },
  {
   "cell_type": "code",
   "execution_count": null,
   "metadata": {},
   "outputs": [],
   "source": [
    "# O usuário insere o número secreto\n",
    "numero_secreto = int(input(\"Digite o número secreto (não deixe ninguém ver!): \"))\n",
    "\n",
    "# Define o número máximo de tentativas\n",
    "tentativas = 10\n",
    "\n",
    "# Limpa a tela para que o número secreto não possa ser visto\n",
    "print(\"\\n\" * 50)\n",
    "\n",
    "# Loop for para limitar o número de tentativas\n",
    "for i in range(tentativas):\n",
    "    # O usuário insere seu palpite\n",
    "    palpite = int(input(\"Digite seu palpite: \"))\n",
    "    \n",
    "    # Loop while para continuar pedindo palpites até que o usuário acerte ou esgote as tentativas\n",
    "    while palpite != numero_secreto and i < tentativas-1:\n",
    "        # Verifica se o palpite é menor que o número secreto\n",
    "        if palpite < numero_secreto:\n",
    "            print(\"Seu palpite é menor que o número secreto.\")\n",
    "        # Se não for menor, então é maior (já que sabemos que não é igual)\n",
    "        else:\n",
    "            print(\"Seu palpite é maior que o número secreto.\")\n",
    "        \n",
    "        # Incrementa a contagem de tentativas\n",
    "        i += 1\n",
    "        \n",
    "        # Se ainda houver tentativas restantes, pede um novo palpite\n",
    "        if i < tentativas:\n",
    "            palpite = int(input(\"Digite seu próximo palpite: \"))\n",
    "    \n",
    "    # Se o usuário acertou, parabeniza e encerra o loop\n",
    "    if palpite == numero_secreto:\n",
    "        print(\"Parabéns! Você acertou o número!\")\n",
    "        break\n",
    "    # Se as tentativas se esgotaram, informa o número secreto\n",
    "    elif i == tentativas-1:\n",
    "        print(\"Você esgotou suas tentativas. O número secreto era \", numero_secreto)"
   ]
  },
  {
   "cell_type": "markdown",
   "metadata": {},
   "source": [
    "10) Carregue o arquivo \"titanic.csv\" em um DataFrame do Pandas e exiba as primeiras 5 linhas."
   ]
  },
  {
   "cell_type": "code",
   "execution_count": 8,
   "metadata": {},
   "outputs": [
    {
     "ename": "ModuleNotFoundError",
     "evalue": "No module named 'pandas'",
     "output_type": "error",
     "traceback": [
      "\u001b[0;31m---------------------------------------------------------------------------\u001b[0m",
      "\u001b[0;31mModuleNotFoundError\u001b[0m                       Traceback (most recent call last)",
      "\u001b[1;32m/Volumes/Brenno 1/Code/Faculdade/Machine-Learning/Exercícios/02/Exercicio01.ipynb Cell 21\u001b[0m line \u001b[0;36m1\n\u001b[0;32m----> <a href='vscode-notebook-cell:/Volumes/Brenno%201/Code/Faculdade/Machine-Learning/Exerc%C3%ADcios/02/Exercicio01.ipynb#X34sZmlsZQ%3D%3D?line=0'>1</a>\u001b[0m \u001b[39mimport\u001b[39;00m \u001b[39mpandas\u001b[39;00m \u001b[39mas\u001b[39;00m \u001b[39mpd\u001b[39;00m\n\u001b[1;32m      <a href='vscode-notebook-cell:/Volumes/Brenno%201/Code/Faculdade/Machine-Learning/Exerc%C3%ADcios/02/Exercicio01.ipynb#X34sZmlsZQ%3D%3D?line=2'>3</a>\u001b[0m \u001b[39m# Substitua 'caminho/para/seu/arquivo.csv' pelo caminho do seu arquivo CSV\u001b[39;00m\n\u001b[1;32m      <a href='vscode-notebook-cell:/Volumes/Brenno%201/Code/Faculdade/Machine-Learning/Exerc%C3%ADcios/02/Exercicio01.ipynb#X34sZmlsZQ%3D%3D?line=3'>4</a>\u001b[0m df \u001b[39m=\u001b[39m pd\u001b[39m.\u001b[39mread_csv(\u001b[39m'\u001b[39m\u001b[39mtitanic.csv\u001b[39m\u001b[39m'\u001b[39m)\n",
      "\u001b[0;31mModuleNotFoundError\u001b[0m: No module named 'pandas'"
     ]
    }
   ],
   "source": [
    "import pandas as pd\n",
    "\n",
    "# Substitua 'caminho/para/seu/arquivo.csv' pelo caminho do seu arquivo CSV\n",
    "df = pd.read_csv('titanic.csv')\n",
    "\n",
    "# Agora o DataFrame 'df' contém os dados do seu arquivo CSV\n",
    "print(df.head())  # Exibe as primeiras 5 linhas do DataFrame"
   ]
  }
 ],
 "metadata": {
  "kernelspec": {
   "display_name": "Python 3",
   "language": "python",
   "name": "python3"
  },
  "language_info": {
   "codemirror_mode": {
    "name": "ipython",
    "version": 3
   },
   "file_extension": ".py",
   "mimetype": "text/x-python",
   "name": "python",
   "nbconvert_exporter": "python",
   "pygments_lexer": "ipython3",
   "version": "3.10.9"
  },
  "orig_nbformat": 4
 },
 "nbformat": 4,
 "nbformat_minor": 2
}
