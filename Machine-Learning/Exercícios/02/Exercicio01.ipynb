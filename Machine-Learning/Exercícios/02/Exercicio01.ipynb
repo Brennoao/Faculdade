{
 "cells": [
  {
   "cell_type": "markdown",
   "metadata": {},
   "source": [
    "<div style=\"background-color: red;\n",
    "            padding: 25px; \n",
    "            color: white; \n",
    "            font-size: 24px;\">\n",
    "    <b>IESB</b> - Centro Universitário de Brasília\n",
    "    \n",
    "</div>\n",
    "<div style=\"background-color: OrangeRed;\n",
    "            padding: 11px; \n",
    "            color: white; \n",
    "            font-size: 11px;\">\n",
    "    <b>Curso:</b> Análise e Desenvolvimento de Sistemas\n",
    "    \n",
    "</div>\n",
    "\n",
    "## Disciplina aprendizado de Máquina (ML)\n",
    "\n",
    "**Autor**:    Brenno Alves de Oliveira <br>\n",
    "**Matricula** 21214290011 | **Turma** OADSN5A <br>\n",
    "**Objetivo**: Introdução a linguagem python:exercícios<br>\n",
    "**Bimestre**: 1º Bimestre 2023<br>\n",
    "\n",
    "**Data criação**:  23/09/2023 <br>\n",
    "**Data Alteração**: xx/xx/xxx  <br>\n",
    "**Alteração Feita**:  xxxxxxxxxxx<br>\n",
    "**Resp. pela alteração**: xxxxxxx<br>\n",
    "\n",
    "<b><i>Versão: 1.0</i></b>"
   ]
  },
  {
   "cell_type": "markdown",
   "metadata": {},
   "source": [
    "#### 1) Escreva um programa que solicite ao usuário um número e, em seguida, use um loop \"for\" para imprimir a tabuada desse número de 1 a 10."
   ]
  },
  {
   "cell_type": "code",
   "execution_count": 7,
   "metadata": {},
   "outputs": [
    {
     "name": "stdout",
     "output_type": "stream",
     "text": [
      "Tabuada do Número 10\n",
      "10 x 1 = 10\n",
      "10 x 2 = 20\n",
      "10 x 3 = 30\n",
      "10 x 4 = 40\n",
      "10 x 5 = 50\n",
      "10 x 6 = 60\n",
      "10 x 7 = 70\n",
      "10 x 8 = 80\n",
      "10 x 9 = 90\n",
      "10 x 10 = 100\n",
      "essa foi a tabuada do número 10\n"
     ]
    }
   ],
   "source": [
    "numero = int(input(\"Digite seu número:\"))\n",
    "\n",
    "print(f'Tabuada do Número {numero}')\n",
    "\n",
    "for i in range(1, 11):\n",
    "    resultado = numero * i\n",
    "    print(f'{numero} x {i} = {resultado}')\n",
    "\n",
    "print(f'Essa foi a tabuada do número {numero}')"
   ]
  },
  {
   "cell_type": "markdown",
   "metadata": {},
   "source": [
    "#### 2) Crie um programa que receba uma lista de números e use um loop \"for\" para calcular a média dos números ímpares na lista."
   ]
  },
  {
   "cell_type": "code",
   "execution_count": 12,
   "metadata": {},
   "outputs": [
    {
     "name": "stdout",
     "output_type": "stream",
     "text": [
      "A média dos números ímpares é: 2.0\n"
     ]
    }
   ],
   "source": [
    "numero = [1, 1, 0, 2, 3, 3]\n",
    "\n",
    "soma = 0\n",
    "contador = 0\n",
    "\n",
    "for num in numero:\n",
    "    if num % 2 != 0:\n",
    "        soma += num\n",
    "        contador += 1\n",
    "\n",
    "media = soma / contador if contador > 0 else 0\n",
    "\n",
    "print(f'A média dos números ímpares é: {media}' )"
   ]
  },
  {
   "cell_type": "markdown",
   "metadata": {},
   "source": [
    "#### 3) Desenvolva um programa que gere os primeiros \"n\" números primos, onde \"n\" é fornecido pelo usuário. Use um loop \"for\" para encontrar e imprimir os números primos."
   ]
  },
  {
   "cell_type": "code",
   "execution_count": 45,
   "metadata": {},
   "outputs": [
    {
     "name": "stdout",
     "output_type": "stream",
     "text": [
      "O número primo é 2\n",
      "O número primo é 3\n"
     ]
    }
   ],
   "source": [
    "# definir uma funcao para verificar se um numero e primo\n",
    "def eh_primo(n):\n",
    "    # se o numero for menor que 2, ele nao e primo\n",
    "    if n < 2:\n",
    "        return False\n",
    "    # se o numero for 2, ele e primo\n",
    "    if n == 2:\n",
    "        return True\n",
    "    # se o numero for par, ele não e primo\n",
    "    if n % 2 == 0:\n",
    "        return False\n",
    "    # usar um loop for para testar os divisores impares de 3 ate a raiz quadrada do numero\n",
    "    for i in range(3, int(n**0.5) + 1, 2):\n",
    "        # se o numero for divisivel por algum divisor, ele nao e primo\n",
    "        if n % i == 0:\n",
    "            return False\n",
    "    # se nenhum divisor foi encontrado, o numero e primo\n",
    "    return True\n",
    "\n",
    "# solicitar ao usuario o valor de n\n",
    "n = int(input(\"Digite o valor de n: \"))\n",
    "\n",
    "# inicializar uma variavel para contar quantos numeros primos foram gerados\n",
    "contagem = 0\n",
    "\n",
    "# inicializar uma variavel para representar o numero atual a ser testado\n",
    "numero = 2\n",
    "\n",
    "# usar um loop while para gerar os primeiros n numeros primos\n",
    "while contagem < n:\n",
    "    # verificar se o numero atual e primo usando a funcao definida anteriormente\n",
    "    if eh_primo(numero):\n",
    "        # Imprimir o numero primo\n",
    "        print(f\"O número primo é {numero}\")\n",
    "        # incrementar a contagem dos numeros primos gerados\n",
    "        contagem += 1\n",
    "    # incrementar o numero atual para testar o proximo candidato a primo\n",
    "    numero += 1\n"
   ]
  },
  {
   "cell_type": "markdown",
   "metadata": {},
   "source": [
    "#### 4) Crie um programa que receba uma lista de palavras e use um loop \"for\" para encontrar a palavra mais longa na lista."
   ]
  },
  {
   "cell_type": "code",
   "execution_count": 20,
   "metadata": {},
   "outputs": [
    {
     "name": "stdout",
     "output_type": "stream",
     "text": [
      "A palavra com mais caracteres é: paralelepipedo\n"
     ]
    }
   ],
   "source": [
    "word = ['brenno', 'rodrigo', 'nada', 'paralelepipedo']\n",
    "\n",
    "for words in word:\n",
    "    test = ''\n",
    "    if(len(words) > len(test)):\n",
    "        test = words\n",
    "\n",
    "print(f'A palavra com mais caracteres é: {words}')"
   ]
  },
  {
   "cell_type": "markdown",
   "metadata": {},
   "source": [
    "#### 5) Escreva um programa que leia uma lista de números e use um loop \"for\" para encontrar o segundo maior número na lista."
   ]
  },
  {
   "cell_type": "code",
   "execution_count": 41,
   "metadata": {},
   "outputs": [
    {
     "name": "stdout",
     "output_type": "stream",
     "text": [
      "O segundo maior número é: 9\n"
     ]
    }
   ],
   "source": [
    "numero = [2, 4, 1, 9, 10, 5]\n",
    "\n",
    "bigger = max(numero[0], numero[1])\n",
    "second_largest = min(numero[0], numero[1])\n",
    "\n",
    "for num in numero[2:]:\n",
    "    if num > bigger:\n",
    "        second_largest = bigger\n",
    "        bigger = num\n",
    "    elif num > second_largest and num != bigger:\n",
    "        segundo_maior = num\n",
    "\n",
    "print(f'O segundo maior número é: {second_largest}')\n"
   ]
  },
  {
   "cell_type": "markdown",
   "metadata": {},
   "source": [
    "#### 6) Crie um programa que peça ao usuário para adivinhar um número secreto (por exemplo, 42). Use um loop \"while\" para continuar pedindo palpites até que o usuário acerte o número."
   ]
  },
  {
   "cell_type": "code",
   "execution_count": 34,
   "metadata": {},
   "outputs": [
    {
     "name": "stdout",
     "output_type": "stream",
     "text": [
      "você conseguiu parabens\n"
     ]
    }
   ],
   "source": [
    "value = int(input('Vamos começar o Game'))\n",
    "\n",
    "while value != 43:\n",
    "    value = int(input('Tente novamente'))\n",
    "\n",
    "print('você conseguiu parabens')"
   ]
  },
  {
   "cell_type": "markdown",
   "metadata": {},
   "source": [
    "#### 7) Escreva um programa que calcule quantos termos de uma sequência Fibonacci são necessários para atingir ou exceder um valor fornecido pelo usuário. Use um loop \"while\" para fazer esse cálculo."
   ]
  },
  {
   "cell_type": "code",
   "execution_count": 47,
   "metadata": {},
   "outputs": [
    {
     "name": "stdout",
     "output_type": "stream",
     "text": [
      "Número de termos para atingir ou exceder 20: 9\n"
     ]
    }
   ],
   "source": [
    "def fibonacci_sequence(n):\n",
    "    fib_sequence = [0, 1]\n",
    "\n",
    "    while len(fib_sequence) < n:\n",
    "        next_term = fib_sequence[-1] + fib_sequence[-2]\n",
    "        fib_sequence.append(next_term)\n",
    "\n",
    "    return fib_sequence\n",
    "\n",
    "# Solicita ao usuário o valor limite\n",
    "valor_limite = int(input(\"Digite o valor limite para a sequência Fibonacci: \"))\n",
    "\n",
    "# Inicializa o contador de termos\n",
    "contador_termos = 0\n",
    "\n",
    "# Inicializa o valor do último termo\n",
    "ultimo_termo = 0\n",
    "\n",
    "# Calcula os termos da sequência até atingir ou exceder o valor limite\n",
    "while ultimo_termo <= valor_limite:\n",
    "    contador_termos += 1\n",
    "    ultimo_termo = fibonacci_sequence(contador_termos)[-1]\n",
    "\n",
    "print(f'Número de termos para atingir ou exceder {valor_limite}: {contador_termos}')\n"
   ]
  },
  {
   "cell_type": "markdown",
   "metadata": {},
   "source": [
    "#### 8) Implemente um programa que peça ao usuário para adivinhar uma palavra secreta, dando dicas após cada tentativa. Use um loop \"for\" para limitar o número de tentativas e um loop \"while\" para pedir palpites até que o número máximo de tentativas seja atingido."
   ]
  },
  {
   "cell_type": "code",
   "execution_count": 49,
   "metadata": {},
   "outputs": [
    {
     "name": "stdout",
     "output_type": "stream",
     "text": [
      "Bem-vindo ao jogo de adivinhação!\n"
     ]
    },
    {
     "name": "stdout",
     "output_type": "stream",
     "text": [
      "Parabéns! Você acertou a palavra.\n"
     ]
    }
   ],
   "source": [
    "# Palavra secreta que o usuário deve adivinhar\n",
    "palavra_secreta = \"python\"\n",
    "\n",
    "# Número máximo de tentativas\n",
    "tentativas_maximas = 5\n",
    "\n",
    "print(\"Bem-vindo ao jogo de adivinhação!\")\n",
    "\n",
    "for tentativa in range(tentativas_maximas):\n",
    "    # Pede ao usuário para fazer uma tentativa\n",
    "    palpite = input(\"Tente adivinhar a palavra: \")\n",
    "\n",
    "    # Verifica se o palpite está correto\n",
    "    if palpite.lower() == palavra_secreta:\n",
    "        print(\"Parabéns! Você acertou a palavra.\")\n",
    "        break\n",
    "    else:\n",
    "        # Dá uma dica ao usuário\n",
    "        print(\"Palpite incorreto. Tente novamente.\")\n",
    "\n",
    "# Se o loop terminar sem acerto, o programa informa que acabaram as tentativa\n",
    "else:\n",
    "    print(\"Você excedeu o número máximo de tentativas. A palavra secreta era:\", palavra_secreta)\n"
   ]
  },
  {
   "cell_type": "markdown",
   "metadata": {},
   "source": [
    "#### 9) Desenvolva um programa que simule um jogo de adivinhação em que o computador escolhe um número aleatório e o jogador tem que adivinhar. Use um loop \"for\" para limitar o número de tentativas e um loop \"while\" para pedir palpites até que o jogador acerte ou esgote as tentativas."
   ]
  },
  {
   "cell_type": "code",
   "execution_count": null,
   "metadata": {},
   "outputs": [],
   "source": [
    "# O usuário insere o número secreto\n",
    "numero_secreto = int(input(\"Digite o número secreto (não deixe ninguém ver!): \"))\n",
    "\n",
    "# Define o número máximo de tentativas\n",
    "tentativas = 10\n",
    "\n",
    "# Limpa a tela para que o número secreto não possa ser visto\n",
    "print(\"\\n\" * 50)\n",
    "\n",
    "# Loop for para limitar o número de tentativas\n",
    "for i in range(tentativas):\n",
    "    # O usuário insere seu palpite\n",
    "    palpite = int(input(\"Digite seu palpite: \"))\n",
    "    \n",
    "    # Loop while para continuar pedindo palpites até que o usuário acerte ou esgote as tentativas\n",
    "    while palpite != numero_secreto and i < tentativas-1:\n",
    "        # Verifica se o palpite é menor que o número secreto\n",
    "        if palpite < numero_secreto:\n",
    "            print(\"Seu palpite é menor que o número secreto.\")\n",
    "        # Se não for menor, então é maior (já que sabemos que não é igual)\n",
    "        else:\n",
    "            print(\"Seu palpite é maior que o número secreto.\")\n",
    "        \n",
    "        # Incrementa a contagem de tentativas\n",
    "        i += 1\n",
    "        \n",
    "        # Se ainda houver tentativas restantes, pede um novo palpite\n",
    "        if i < tentativas:\n",
    "            palpite = int(input(\"Digite seu próximo palpite: \"))\n",
    "    \n",
    "    # Se o usuário acertou, parabeniza e encerra o loop\n",
    "    if palpite == numero_secreto:\n",
    "        print(\"Parabéns! Você acertou o número!\")\n",
    "        break\n",
    "    # Se as tentativas se esgotaram, informa o número secreto\n",
    "    elif i == tentativas-1:\n",
    "        print(\"Você esgotou suas tentativas. O número secreto era \", numero_secreto)"
   ]
  },
  {
   "cell_type": "markdown",
   "metadata": {},
   "source": [
    "#### 10) Carregue o arquivo \"titanic.csv\" em um DataFrame do Pandas e exiba as primeiras 5 linhas."
   ]
  },
  {
   "cell_type": "code",
   "execution_count": 1,
   "metadata": {},
   "outputs": [
    {
     "name": "stdout",
     "output_type": "stream",
     "text": [
      "   Unnamed: 0  PassengerId  Survived  Pclass  \\\n",
      "0           1            1         0       3   \n",
      "1           2            2         1       1   \n",
      "2           3            3         1       3   \n",
      "3           4            4         1       1   \n",
      "4           5            5         0       3   \n",
      "\n",
      "                                                Name     Sex   Age  SibSp  \\\n",
      "0                            Braund, Mr. Owen Harris    male  22.0      1   \n",
      "1  Cumings, Mrs. John Bradley (Florence Briggs Th...  female  38.0      1   \n",
      "2                             Heikkinen, Miss. Laina  female  26.0      0   \n",
      "3       Futrelle, Mrs. Jacques Heath (Lily May Peel)  female  35.0      1   \n",
      "4                           Allen, Mr. William Henry    male  35.0      0   \n",
      "\n",
      "   Parch            Ticket     Fare Cabin Embarked  \n",
      "0      0         A/5 21171   7.2500   NaN        S  \n",
      "1      0          PC 17599  71.2833   C85        C  \n",
      "2      0  STON/O2. 3101282   7.9250   NaN        S  \n",
      "3      0            113803  53.1000  C123        S  \n",
      "4      0            373450   8.0500   NaN        S  \n"
     ]
    }
   ],
   "source": [
    "import pandas as pd\n",
    "\n",
    "#importação do arquivo csv\n",
    "dt = pd.read_csv('titanic.csv')\n",
    "\n",
    "# Agora o DataFrame 'dt' contém os dados do seu arquivo CSV\n",
    "print(dt.head())  # Exibe as primeiras 5 linhas do DataFrame"
   ]
  },
  {
   "cell_type": "markdown",
   "metadata": {},
   "source": [
    "#### 11) Calcule a média de idade dos passageiros no Titanic."
   ]
  },
  {
   "cell_type": "code",
   "execution_count": 12,
   "metadata": {},
   "outputs": [
    {
     "name": "stdout",
     "output_type": "stream",
     "text": [
      "A media de idade é: 29\n"
     ]
    }
   ],
   "source": [
    "import pandas as pd\n",
    "\n",
    "#importação do arquivo csv\n",
    "dt = pd.read_csv('titanic.csv')\n",
    "\n",
    "# calculando a media de idade\n",
    "middle_ages = int(dt['Age'].mean())\n",
    "\n",
    "print(f'A media de idade é: {middle_ages}')"
   ]
  },
  {
   "cell_type": "markdown",
   "metadata": {},
   "source": [
    "#### 12) Encontre o número de passageiros sobreviventes e não sobreviventes no Titanic."
   ]
  },
  {
   "cell_type": "code",
   "execution_count": 6,
   "metadata": {},
   "outputs": [
    {
     "name": "stdout",
     "output_type": "stream",
     "text": [
      "Número de sobreviventes: 342\n",
      "Número de mortes: 549\n"
     ]
    }
   ],
   "source": [
    "import pandas as pd\n",
    "\n",
    "# Carregue o arquivo CSV\n",
    "dt = pd.read_csv('titanic.csv')\n",
    "\n",
    "# Conte o número de sobreviventes e não sobreviventes\n",
    "sobreviventes = dt[dt['Survived'] == 1].shape[0]\n",
    "nao_sobreviventes = dt[dt['Survived'] == 0].shape[0]\n",
    "\n",
    "print(f'Número de sobreviventes: {sobreviventes}')\n",
    "print(f'Número de mortes: {nao_sobreviventes}')"
   ]
  },
  {
   "cell_type": "markdown",
   "metadata": {},
   "source": [
    "#### 13) Liste todos os nomes dos passageiros que têm mais de 70 anos de idade."
   ]
  },
  {
   "cell_type": "code",
   "execution_count": 11,
   "metadata": {},
   "outputs": [
    {
     "name": "stdout",
     "output_type": "stream",
     "text": [
      "96                Goldschmidt, Mr. George B\n",
      "116                    Connors, Mr. Patrick\n",
      "493                 Artagaveytia, Mr. Ramon\n",
      "630    Barkworth, Mr. Algernon Henry Wilson\n",
      "851                     Svensson, Mr. Johan\n",
      "Name: Name, dtype: object\n"
     ]
    }
   ],
   "source": [
    "import pandas as pd\n",
    "\n",
    "# Carregue o arquivo CSV\n",
    "df = pd.read_csv('titanic.csv')\n",
    "\n",
    "# Filtre os passageiros com mais de 70 anos\n",
    "passenger_filter = df[df['Age'] > 70]\n",
    "\n",
    "# Liste os nomes desses passageiros\n",
    "passenger_names = passenger_filter['Name']\n",
    "\n",
    "print(passenger_names)"
   ]
  },
  {
   "cell_type": "markdown",
   "metadata": {},
   "source": [
    "#### 14) Crie um gráfico de barras mostrando a contagem de passageiros por classe (1ª, 2ª e 3ª classe)."
   ]
  },
  {
   "cell_type": "code",
   "execution_count": 15,
   "metadata": {},
   "outputs": [
    {
     "name": "stdout",
     "output_type": "stream",
     "text": [
      "Pclass\n",
      "3    491\n",
      "1    216\n",
      "2    184\n",
      "Name: count, dtype: int64\n"
     ]
    }
   ],
   "source": [
    "import pandas as pd\n",
    "\n",
    "# importação do arquivo\n",
    "df = pd.read_csv('titanic.csv')\n",
    "\n",
    "# contagem do numero de passageiros\n",
    "contagem_classe = df['Pclass'].value_counts()\n",
    "\n",
    "print(contagem_classe)"
   ]
  },
  {
   "cell_type": "markdown",
   "metadata": {},
   "source": [
    "#### 15) Encontre a idade média dos passageiros de cada classe (1ª, 2ª e 3ª classe) no Titanic."
   ]
  },
  {
   "cell_type": "code",
   "execution_count": 22,
   "metadata": {},
   "outputs": [
    {
     "name": "stdout",
     "output_type": "stream",
     "text": [
      "Pclass\n",
      "1    38\n",
      "2    29\n",
      "3    25\n",
      "Name: Age, dtype: int64\n"
     ]
    }
   ],
   "source": [
    "import pandas as pd\n",
    "\n",
    "# importação do arquivo\n",
    "df = pd.read_csv('titanic.csv')\n",
    "\n",
    "# Calculando a idade media por classe\n",
    "middle_ages = dt.groupby('Pclass')['Age'].mean()\n",
    "\n",
    "# Transformar em inteiro\n",
    "middle_ages = middle_ages.astype(int)\n",
    "\n",
    "print(middle_ages)"
   ]
  },
  {
   "cell_type": "markdown",
   "metadata": {},
   "source": [
    "#### 16) Classifique o DataFrame por idade em ordem decrescente e mostre as 10 primeiras linhas."
   ]
  },
  {
   "cell_type": "code",
   "execution_count": 25,
   "metadata": {},
   "outputs": [
    {
     "data": {
      "text/html": [
       "<div>\n",
       "<style scoped>\n",
       "    .dataframe tbody tr th:only-of-type {\n",
       "        vertical-align: middle;\n",
       "    }\n",
       "\n",
       "    .dataframe tbody tr th {\n",
       "        vertical-align: top;\n",
       "    }\n",
       "\n",
       "    .dataframe thead th {\n",
       "        text-align: right;\n",
       "    }\n",
       "</style>\n",
       "<table border=\"1\" class=\"dataframe\">\n",
       "  <thead>\n",
       "    <tr style=\"text-align: right;\">\n",
       "      <th></th>\n",
       "      <th>Unnamed: 0</th>\n",
       "      <th>PassengerId</th>\n",
       "      <th>Survived</th>\n",
       "      <th>Pclass</th>\n",
       "      <th>Name</th>\n",
       "      <th>Sex</th>\n",
       "      <th>Age</th>\n",
       "      <th>SibSp</th>\n",
       "      <th>Parch</th>\n",
       "      <th>Ticket</th>\n",
       "      <th>Fare</th>\n",
       "      <th>Cabin</th>\n",
       "      <th>Embarked</th>\n",
       "    </tr>\n",
       "  </thead>\n",
       "  <tbody>\n",
       "    <tr>\n",
       "      <th>630</th>\n",
       "      <td>631</td>\n",
       "      <td>631</td>\n",
       "      <td>1</td>\n",
       "      <td>1</td>\n",
       "      <td>Barkworth, Mr. Algernon Henry Wilson</td>\n",
       "      <td>male</td>\n",
       "      <td>80.0</td>\n",
       "      <td>0</td>\n",
       "      <td>0</td>\n",
       "      <td>27042</td>\n",
       "      <td>30.0000</td>\n",
       "      <td>A23</td>\n",
       "      <td>S</td>\n",
       "    </tr>\n",
       "    <tr>\n",
       "      <th>851</th>\n",
       "      <td>852</td>\n",
       "      <td>852</td>\n",
       "      <td>0</td>\n",
       "      <td>3</td>\n",
       "      <td>Svensson, Mr. Johan</td>\n",
       "      <td>male</td>\n",
       "      <td>74.0</td>\n",
       "      <td>0</td>\n",
       "      <td>0</td>\n",
       "      <td>347060</td>\n",
       "      <td>7.7750</td>\n",
       "      <td>NaN</td>\n",
       "      <td>S</td>\n",
       "    </tr>\n",
       "    <tr>\n",
       "      <th>493</th>\n",
       "      <td>494</td>\n",
       "      <td>494</td>\n",
       "      <td>0</td>\n",
       "      <td>1</td>\n",
       "      <td>Artagaveytia, Mr. Ramon</td>\n",
       "      <td>male</td>\n",
       "      <td>71.0</td>\n",
       "      <td>0</td>\n",
       "      <td>0</td>\n",
       "      <td>PC 17609</td>\n",
       "      <td>49.5042</td>\n",
       "      <td>NaN</td>\n",
       "      <td>C</td>\n",
       "    </tr>\n",
       "    <tr>\n",
       "      <th>96</th>\n",
       "      <td>97</td>\n",
       "      <td>97</td>\n",
       "      <td>0</td>\n",
       "      <td>1</td>\n",
       "      <td>Goldschmidt, Mr. George B</td>\n",
       "      <td>male</td>\n",
       "      <td>71.0</td>\n",
       "      <td>0</td>\n",
       "      <td>0</td>\n",
       "      <td>PC 17754</td>\n",
       "      <td>34.6542</td>\n",
       "      <td>A5</td>\n",
       "      <td>C</td>\n",
       "    </tr>\n",
       "    <tr>\n",
       "      <th>116</th>\n",
       "      <td>117</td>\n",
       "      <td>117</td>\n",
       "      <td>0</td>\n",
       "      <td>3</td>\n",
       "      <td>Connors, Mr. Patrick</td>\n",
       "      <td>male</td>\n",
       "      <td>70.5</td>\n",
       "      <td>0</td>\n",
       "      <td>0</td>\n",
       "      <td>370369</td>\n",
       "      <td>7.7500</td>\n",
       "      <td>NaN</td>\n",
       "      <td>Q</td>\n",
       "    </tr>\n",
       "    <tr>\n",
       "      <th>672</th>\n",
       "      <td>673</td>\n",
       "      <td>673</td>\n",
       "      <td>0</td>\n",
       "      <td>2</td>\n",
       "      <td>Mitchell, Mr. Henry Michael</td>\n",
       "      <td>male</td>\n",
       "      <td>70.0</td>\n",
       "      <td>0</td>\n",
       "      <td>0</td>\n",
       "      <td>C.A. 24580</td>\n",
       "      <td>10.5000</td>\n",
       "      <td>NaN</td>\n",
       "      <td>S</td>\n",
       "    </tr>\n",
       "    <tr>\n",
       "      <th>745</th>\n",
       "      <td>746</td>\n",
       "      <td>746</td>\n",
       "      <td>0</td>\n",
       "      <td>1</td>\n",
       "      <td>Crosby, Capt. Edward Gifford</td>\n",
       "      <td>male</td>\n",
       "      <td>70.0</td>\n",
       "      <td>1</td>\n",
       "      <td>1</td>\n",
       "      <td>WE/P 5735</td>\n",
       "      <td>71.0000</td>\n",
       "      <td>B22</td>\n",
       "      <td>S</td>\n",
       "    </tr>\n",
       "    <tr>\n",
       "      <th>33</th>\n",
       "      <td>34</td>\n",
       "      <td>34</td>\n",
       "      <td>0</td>\n",
       "      <td>2</td>\n",
       "      <td>Wheadon, Mr. Edward H</td>\n",
       "      <td>male</td>\n",
       "      <td>66.0</td>\n",
       "      <td>0</td>\n",
       "      <td>0</td>\n",
       "      <td>C.A. 24579</td>\n",
       "      <td>10.5000</td>\n",
       "      <td>NaN</td>\n",
       "      <td>S</td>\n",
       "    </tr>\n",
       "    <tr>\n",
       "      <th>54</th>\n",
       "      <td>55</td>\n",
       "      <td>55</td>\n",
       "      <td>0</td>\n",
       "      <td>1</td>\n",
       "      <td>Ostby, Mr. Engelhart Cornelius</td>\n",
       "      <td>male</td>\n",
       "      <td>65.0</td>\n",
       "      <td>0</td>\n",
       "      <td>1</td>\n",
       "      <td>113509</td>\n",
       "      <td>61.9792</td>\n",
       "      <td>B30</td>\n",
       "      <td>C</td>\n",
       "    </tr>\n",
       "    <tr>\n",
       "      <th>280</th>\n",
       "      <td>281</td>\n",
       "      <td>281</td>\n",
       "      <td>0</td>\n",
       "      <td>3</td>\n",
       "      <td>Duane, Mr. Frank</td>\n",
       "      <td>male</td>\n",
       "      <td>65.0</td>\n",
       "      <td>0</td>\n",
       "      <td>0</td>\n",
       "      <td>336439</td>\n",
       "      <td>7.7500</td>\n",
       "      <td>NaN</td>\n",
       "      <td>Q</td>\n",
       "    </tr>\n",
       "  </tbody>\n",
       "</table>\n",
       "</div>"
      ],
      "text/plain": [
       "     Unnamed: 0  PassengerId  Survived  Pclass  \\\n",
       "630         631          631         1       1   \n",
       "851         852          852         0       3   \n",
       "493         494          494         0       1   \n",
       "96           97           97         0       1   \n",
       "116         117          117         0       3   \n",
       "672         673          673         0       2   \n",
       "745         746          746         0       1   \n",
       "33           34           34         0       2   \n",
       "54           55           55         0       1   \n",
       "280         281          281         0       3   \n",
       "\n",
       "                                     Name   Sex   Age  SibSp  Parch  \\\n",
       "630  Barkworth, Mr. Algernon Henry Wilson  male  80.0      0      0   \n",
       "851                   Svensson, Mr. Johan  male  74.0      0      0   \n",
       "493               Artagaveytia, Mr. Ramon  male  71.0      0      0   \n",
       "96              Goldschmidt, Mr. George B  male  71.0      0      0   \n",
       "116                  Connors, Mr. Patrick  male  70.5      0      0   \n",
       "672           Mitchell, Mr. Henry Michael  male  70.0      0      0   \n",
       "745          Crosby, Capt. Edward Gifford  male  70.0      1      1   \n",
       "33                  Wheadon, Mr. Edward H  male  66.0      0      0   \n",
       "54         Ostby, Mr. Engelhart Cornelius  male  65.0      0      1   \n",
       "280                      Duane, Mr. Frank  male  65.0      0      0   \n",
       "\n",
       "         Ticket     Fare Cabin Embarked  \n",
       "630       27042  30.0000   A23        S  \n",
       "851      347060   7.7750   NaN        S  \n",
       "493    PC 17609  49.5042   NaN        C  \n",
       "96     PC 17754  34.6542    A5        C  \n",
       "116      370369   7.7500   NaN        Q  \n",
       "672  C.A. 24580  10.5000   NaN        S  \n",
       "745   WE/P 5735  71.0000   B22        S  \n",
       "33   C.A. 24579  10.5000   NaN        S  \n",
       "54       113509  61.9792   B30        C  \n",
       "280      336439   7.7500   NaN        Q  "
      ]
     },
     "execution_count": 25,
     "metadata": {},
     "output_type": "execute_result"
    }
   ],
   "source": [
    "import pandas as pd\n",
    "\n",
    "# importação do arquivo\n",
    "df = pd.read_csv('titanic.csv')\n",
    "\n",
    "# classificando a idade de forma decrescente\n",
    "dt_sort = dt.sort_values('Age', ascending=False)\n",
    "\n",
    "# Mostra as 10 primeiras linhas\n",
    "dt_sort.head(10)"
   ]
  },
  {
   "cell_type": "markdown",
   "metadata": {},
   "source": [
    "#### 17) Calcule a porcentagem de passageiros que sobreviveram em cada classe."
   ]
  },
  {
   "cell_type": "code",
   "execution_count": 29,
   "metadata": {},
   "outputs": [
    {
     "name": "stdout",
     "output_type": "stream",
     "text": [
      "Pclass\n",
      "1    62.962963\n",
      "2    47.282609\n",
      "3    24.236253\n",
      "dtype: float64\n"
     ]
    }
   ],
   "source": [
    "import pandas as pd\n",
    "\n",
    "# importação do arquivo\n",
    "dt = pd.read_csv('titanic.csv')\n",
    "\n",
    "# filtra os passageiros sobrevivente, agrupa por classe e conta o número de passageiros em cada grupo\n",
    "survivors_class = dt[dt['Survived'] == 1].groupby('Pclass').size()\n",
    "\n",
    "# agrupa os passageiro e conta número de passageiros por grupo\n",
    "total_class = dt.groupby('Pclass').size()\n",
    "\n",
    "# calcula a porcentagem de passageiros em cada classe dividindo o numero de sobrevivente pelo total de cada classe multiplicado por 100\n",
    "porcentagem_sobreviventes = (survivors_class / total_class) * 100\n",
    "\n",
    "print(porcentagem_sobreviventes)"
   ]
  },
  {
   "cell_type": "markdown",
   "metadata": {},
   "source": [
    "#### 18) Encontre a média de idade dos passageiros que viajaram sozinhos (sem pais, filhos, cônjuges ou irmãos) e dos passageiros que viajaram em grupos."
   ]
  },
  {
   "cell_type": "code",
   "execution_count": 7,
   "metadata": {},
   "outputs": [
    {
     "name": "stdout",
     "output_type": "stream",
     "text": [
      "Média de idade dos passageiros que viajaram sozinhos: 32.22029702970297\n",
      "Média de idade dos passageiros que viajaram em grupos: 26.413451612903227\n"
     ]
    }
   ],
   "source": [
    "import pandas as pd\n",
    "\n",
    "# importação do arquivo\n",
    "dt = pd.read_csv('titanic.csv')\n",
    "\n",
    "# substitua 'NA' por np.nan para permitir cálculos estatísticos\n",
    "dt['Age'] = dt['Age'].replace('NA', float('nan'))\n",
    "\n",
    "# converta a coluna 'Age' para float\n",
    "dt['Age'] = dt['Age'].astype(float)\n",
    "\n",
    "# crie uma nova coluna 'Alone' onde True indica que o passageiro viajou sozinho e False indica que viajou em grupo\n",
    "dt['Alone'] = (dt['SibSp'] == 0) & (dt['Parch'] == 0)\n",
    "\n",
    "# calcule a média de idade para passageiros que viajaram sozinhos e em grupos\n",
    "average_age_alone = dt[dt['Alone'] == True]['Age'].mean()\n",
    "average_age_group = dt[dt['Alone'] == False]['Age'].mean()\n",
    "\n",
    "print(f'Média de idade dos passageiros que viajaram sozinhos: {average_age_alone}')\n",
    "print(f'Média de idade dos passageiros que viajaram em grupos: {average_age_group}')"
   ]
  },
  {
   "cell_type": "markdown",
   "metadata": {},
   "source": [
    "#### 19) Crie um novo DataFrame contendo apenas passageiros do sexo masculino e com idade entre 20 e 30 anos."
   ]
  },
  {
   "cell_type": "code",
   "execution_count": 8,
   "metadata": {},
   "outputs": [
    {
     "name": "stdout",
     "output_type": "stream",
     "text": [
      "     Unnamed: 0  PassengerId  Survived  Pclass  \\\n",
      "0             1            1         0       3   \n",
      "12           13           13         0       3   \n",
      "23           24           24         1       1   \n",
      "34           35           35         0       1   \n",
      "37           38           38         0       3   \n",
      "..          ...          ...       ...     ...   \n",
      "876         877          877         0       3   \n",
      "883         884          884         0       2   \n",
      "884         885          885         0       3   \n",
      "886         887          887         0       2   \n",
      "889         890          890         1       1   \n",
      "\n",
      "                               Name   Sex   Age  SibSp  Parch  \\\n",
      "0           Braund, Mr. Owen Harris  male  22.0      1      0   \n",
      "12   Saundercock, Mr. William Henry  male  20.0      0      0   \n",
      "23     Sloper, Mr. William Thompson  male  28.0      0      0   \n",
      "34          Meyer, Mr. Edgar Joseph  male  28.0      1      0   \n",
      "37         Cann, Mr. Ernest Charles  male  21.0      0      0   \n",
      "..                              ...   ...   ...    ...    ...   \n",
      "876   Gustafsson, Mr. Alfred Ossian  male  20.0      0      0   \n",
      "883   Banfield, Mr. Frederick James  male  28.0      0      0   \n",
      "884          Sutehall, Mr. Henry Jr  male  25.0      0      0   \n",
      "886           Montvila, Rev. Juozas  male  27.0      0      0   \n",
      "889           Behr, Mr. Karl Howell  male  26.0      0      0   \n",
      "\n",
      "               Ticket     Fare Cabin Embarked  \n",
      "0           A/5 21171   7.2500   NaN        S  \n",
      "12          A/5. 2151   8.0500   NaN        S  \n",
      "23             113788  35.5000    A6        S  \n",
      "34           PC 17604  82.1708   NaN        C  \n",
      "37         A./5. 2152   8.0500   NaN        S  \n",
      "..                ...      ...   ...      ...  \n",
      "876              7534   9.8458   NaN        S  \n",
      "883  C.A./SOTON 34068  10.5000   NaN        S  \n",
      "884   SOTON/OQ 392076   7.0500   NaN        S  \n",
      "886            211536  13.0000   NaN        S  \n",
      "889            111369  30.0000  C148        C  \n",
      "\n",
      "[162 rows x 13 columns]\n"
     ]
    }
   ],
   "source": [
    "import pandas as pd\n",
    "\n",
    "# importação do arquivo\n",
    "dt = pd.read_csv('titanic.csv')\n",
    "\n",
    "# substitua 'NA' por np.nan para permitir cálculos estatísticos\n",
    "dt['Age'] = dt['Age'].replace('NA', float('nan'))\n",
    "\n",
    "# converta a coluna 'Age' para float\n",
    "dt['Age'] = dt['Age'].astype(float)\n",
    "\n",
    "# crie um novo DataFrame que contenha apenas passageiros do sexo masculino e com idade entre 20 e 30 anos\n",
    "new_dt = dt[(dt['Sex'] == 'male') & (dt['Age'] >= 20) & (dt['Age'] <= 30)]\n",
    "\n",
    "print(new_dt)"
   ]
  },
  {
   "cell_type": "markdown",
   "metadata": {},
   "source": [
    "#### 20) Calcule a porcentagem de passageiros que embarcaram em cada um dos portos de embarque (C = Cherbourg, Q = Queenstown, S = Southampton)."
   ]
  },
  {
   "cell_type": "code",
   "execution_count": 9,
   "metadata": {},
   "outputs": [
    {
     "name": "stdout",
     "output_type": "stream",
     "text": [
      "Embarked\n",
      "S    72.278339\n",
      "C    18.855219\n",
      "Q     8.641975\n",
      "Name: count, dtype: float64\n"
     ]
    }
   ],
   "source": [
    "import pandas as pd\n",
    "\n",
    "# importação do arquivo\n",
    "dt = pd.read_csv('titanic.csv')\n",
    "\n",
    "# calcule a porcentagem de passageiros que embarcaram em cada um dos portos de embarque\n",
    "embarked_counts = dt['Embarked'].value_counts()\n",
    "embarked_percentages = embarked_counts / len(dt) * 100\n",
    "\n",
    "print(embarked_percentages)"
   ]
  },
  {
   "cell_type": "markdown",
   "metadata": {},
   "source": [
    "#### 21) Encontre o passageiro mais jovem a sobreviver no Titanic."
   ]
  },
  {
   "cell_type": "code",
   "execution_count": 10,
   "metadata": {},
   "outputs": [
    {
     "name": "stdout",
     "output_type": "stream",
     "text": [
      "     Unnamed: 0  PassengerId  Survived  Pclass  \\\n",
      "803         804          804         1       3   \n",
      "\n",
      "                                Name   Sex   Age  SibSp  Parch Ticket    Fare  \\\n",
      "803  Thomas, Master. Assad Alexander  male  0.42      0      1   2625  8.5167   \n",
      "\n",
      "    Cabin Embarked  \n",
      "803   NaN        C  \n"
     ]
    }
   ],
   "source": [
    "import pandas as pd\n",
    "\n",
    "# importação do arquivo\n",
    "dt = pd.read_csv('titanic.csv')\n",
    "\n",
    "# Filtrar apenas os passageiros que sobreviveram\n",
    "sobreviventes = dt[dt['Survived'] == 1]\n",
    "\n",
    "# Encontre o passageiro mais jovem entre os sobreviventes\n",
    "passageiro_mais_jovem = sobreviventes[sobreviventes['Age'] == sobreviventes['Age'].min()]\n",
    "\n",
    "print(passageiro_mais_jovem)"
   ]
  },
  {
   "cell_type": "markdown",
   "metadata": {},
   "source": [
    "#### 22) Crie um histograma que mostre a distribuição de idades dos passageiros."
   ]
  },
  {
   "cell_type": "code",
   "execution_count": 11,
   "metadata": {},
   "outputs": [
    {
     "data": {
      "text/plain": [
       "<Axes: ylabel='Frequency'>"
      ]
     },
     "execution_count": 11,
     "metadata": {},
     "output_type": "execute_result"
    },
    {
     "data": {
      "image/png": "[encoded data removed]",
      "text/plain": [
       "<Figure size 640x480 with 1 Axes>"
      ]
     },
     "metadata": {},
     "output_type": "display_data"
    }
   ],
   "source": [
    "import pandas as pd\n",
    "\n",
    "# Carregue seus dados em um DataFrame pandas\n",
    "dt = pd.read_csv('titanic.csv')\n",
    "\n",
    "# Crie um histograma da coluna 'Age'\n",
    "dt['Age'].plot.hist(bins=30, edgecolor='black')"
   ]
  },
  {
   "cell_type": "markdown",
   "metadata": {},
   "source": [
    "#### 23) Calcule a média de tarifas pagas pelos passageiros em cada classe."
   ]
  },
  {
   "cell_type": "code",
   "execution_count": 12,
   "metadata": {},
   "outputs": [
    {
     "name": "stdout",
     "output_type": "stream",
     "text": [
      "Pclass\n",
      "1    84.154687\n",
      "2    20.662183\n",
      "3    13.675550\n",
      "Name: Fare, dtype: float64\n"
     ]
    }
   ],
   "source": [
    "import pandas as pd\n",
    "\n",
    "# Carregue seus dados em um DataFrame pandas\n",
    "dt = pd.read_csv('titanic.csv')\n",
    "\n",
    "# Agrupe os dados pela classe dos passageiros e calcule a média das tarifas pagas\n",
    "media_tarifas = dt.groupby('Pclass')['Fare'].mean()\n",
    "\n",
    "print(media_tarifas)"
   ]
  },
  {
   "cell_type": "markdown",
   "metadata": {},
   "source": [
    "#### 24) Encontre a proporção de sobreviventes entre os passageiros com idade abaixo de 18 anos."
   ]
  },
  {
   "cell_type": "code",
   "execution_count": 13,
   "metadata": {},
   "outputs": [
    {
     "name": "stdout",
     "output_type": "stream",
     "text": [
      "0.5398230088495575\n"
     ]
    }
   ],
   "source": [
    "import pandas as pd\n",
    "\n",
    "# Carregue seus dados em um DataFrame pandas\n",
    "dt = pd.read_csv('titanic.csv')\n",
    "\n",
    "# Filtrar passageiros com menos de 18 anos\n",
    "menores_18 = dt[dt['Age'] < 18]\n",
    "\n",
    "# Calcule a proporção de sobreviventes entre os passageiros com menos de 18 anos\n",
    "proporcao_sobreviventes = menores_18['Survived'].mean()\n",
    "\n",
    "print(proporcao_sobreviventes)"
   ]
  }
 ],
 "metadata": {
  "kernelspec": {
   "display_name": "Python 3",
   "language": "python",
   "name": "python3"
  },
  "language_info": {
   "codemirror_mode": {
    "name": "ipython",
    "version": 3
   },
   "file_extension": ".py",
   "mimetype": "text/x-python",
   "name": "python",
   "nbconvert_exporter": "python",
   "pygments_lexer": "ipython3",
   "version": "3.10.8"
  },
  "orig_nbformat": 4
 },
 "nbformat": 4,
 "nbformat_minor": 2
}
