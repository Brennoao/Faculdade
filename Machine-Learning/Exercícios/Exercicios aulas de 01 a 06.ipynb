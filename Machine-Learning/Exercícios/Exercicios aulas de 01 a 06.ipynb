{
 "cells": [
  {
   "cell_type": "markdown",
   "id": "1f05b0e6",
   "metadata": {},
   "source": [
    "<div style=\"background-color: red;\n",
    "            padding: 25px; \n",
    "            color: white; \n",
    "            font-size: 24px;\">\n",
    "    <b>IESB</b> - Centro Universitário de Brasília\n",
    "    \n",
    "</div>\n",
    "<div style=\"background-color: OrangeRed;\n",
    "            padding: 11px; \n",
    "            color: white; \n",
    "            font-size: 11px;\">\n",
    "    <b>Curso:</b> Análise e Desensolvimento de Sistemas\n",
    "    \n",
    "</div>\n",
    "\n",
    "## Disciplina aprendizado de Máquina (ML)\n",
    "\n",
    "**Autor**:    Aluno: Brenno Alves de Oliveira <br>\n",
    "**Matrícula**:    21214290011 <br>\n",
    "**Objetivo**: EXERCÍCIOS AULAS 01 À 06<br>\n",
    "**Bimestre**: 1º Bimestre 2023<br>\n",
    "\n",
    "**Data criação**:  20/06/2023 <br>\n",
    "**Data Alteração**: xx/xx/xxx  <br>\n",
    "**Alteração Feita**:  xxxxxxxxxxx<br>\n",
    "**Resp. pela alteração**: xxxxxxx<br>\n",
    "\n",
    "<b><i>Versão: 1.0</i></b>"
   ]
  },
  {
   "cell_type": "markdown",
   "id": "6448c2aa",
   "metadata": {},
   "source": [
    "# CONCEITOS INICIAIS"
   ]
  },
  {
   "cell_type": "markdown",
   "id": "d661e24f",
   "metadata": {},
   "source": [
    "01) declare duas variáveis, \"a\" e \"b\", e atribua a elas valores numéricos. Em seguida, some esses valores e imprima o resultado.\n",
    "\n",
    "02) escreva um código para calcular a média de três números (a, b e c) e exiba o resultado.\n",
    "\n",
    "03) dado um número inteiro, verifique se ele é par ou ímpar e exiba uma mensagem correspondente.\n",
    "\n"
   ]
  },
  {
   "cell_type": "markdown",
   "id": "039ffa26",
   "metadata": {},
   "source": [
    "# LISTAS"
   ]
  },
  {
   "cell_type": "markdown",
   "id": "6f91cab9",
   "metadata": {},
   "source": [
    "01) crie uma lista com número de 1 a 5. adicione o número 6 ao final da lista e, sem seguida imprima a lista.\n",
    "02) dada a lista de cores: vermelho, verde, azul. remova o último elemento e imprima a lista resultante.\n",
    "03) crie uma lista de númeors e ordene-a em ordem decrescente e imprima o resultado."
   ]
  },
  {
   "cell_type": "code",
   "execution_count": 14,
   "id": "5311c119",
   "metadata": {},
   "outputs": [
    {
     "name": "stdout",
     "output_type": "stream",
     "text": [
      "[1, 2, 3, 4, 5, 6]\n"
     ]
    }
   ],
   "source": [
    "lista = [1, 2, 3, 4, 5]\n",
    "\n",
    "lista.append(6)\n",
    "print(lista)"
   ]
  },
  {
   "cell_type": "code",
   "execution_count": 3,
   "id": "0fc4031b",
   "metadata": {},
   "outputs": [
    {
     "name": "stdout",
     "output_type": "stream",
     "text": [
      "['vermelho', 'verde']\n"
     ]
    }
   ],
   "source": [
    "lista = [\"vermelho\", \"verde\", \"azul\"]\n",
    "\n",
    "lista.remove[2]\n",
    "print(lista)"
   ]
  },
  {
   "cell_type": "code",
   "execution_count": 15,
   "id": "ea592e76",
   "metadata": {},
   "outputs": [
    {
     "name": "stdout",
     "output_type": "stream",
     "text": [
      "[5, 4, 3, 2, 1]\n"
     ]
    }
   ],
   "source": [
    "lista = [1, 2, 3, 4, 5]\n",
    "\n",
    "lista.reverse()\n",
    "print(lista)"
   ]
  },
  {
   "cell_type": "markdown",
   "id": "95d6ddc3",
   "metadata": {},
   "source": [
    "# DICIONÁRIOS"
   ]
  },
  {
   "cell_type": "markdown",
   "id": "6e6b9b6d",
   "metadata": {},
   "source": [
    "01) crie um dicionário com pares de chave-valor representando nomes de alunos e suas respectivas idades. adiciona um novo aluno ao dicioário e imprima-o.\n",
    "\n",
    "02) dado o dicionario: matemática:8, história:7, inglês:9. calcule a média das notas e exiba o resultado.\n",
    "03) crie um dicionário contendo nomes de frutas e suas quantidades. atualize a quantidade de uma fruta existente e imprima o dicionario.\n"
   ]
  },
  {
   "cell_type": "code",
   "execution_count": 12,
   "id": "91cce484",
   "metadata": {},
   "outputs": [
    {
     "name": "stdout",
     "output_type": "stream",
     "text": [
      "{'nome': 'Rodrigo', 'idade': 20}\n",
      "{'nome': 'Brenno', 'idade': 23}\n"
     ]
    }
   ],
   "source": [
    "alunos = {'nome': \"Rodrigo\", \"idade\": 20}\n",
    "print(alunos)\n",
    "\n",
    "alunos[\"nome\"] = \"Brenno\"\n",
    "alunos[\"idade\"] = 23\n",
    "print(alunos)\n"
   ]
  },
  {
   "cell_type": "code",
   "execution_count": 19,
   "id": "c1d73fba",
   "metadata": {},
   "outputs": [
    {
     "name": "stdout",
     "output_type": "stream",
     "text": [
      "8.0\n"
     ]
    }
   ],
   "source": [
    "materias = {'matemática': 8, 'história': 7, 'inglês': 9}\n",
    "media = sum(materias.values()) / len(materias)\n",
    "\n",
    "print(media)"
   ]
  },
  {
   "cell_type": "code",
   "execution_count": 21,
   "metadata": {},
   "outputs": [
    {
     "name": "stdout",
     "output_type": "stream",
     "text": [
      "{'Morango': 'Muito-Boa', 'Uva': 'Boa', 'Mamão': '-boa'}\n"
     ]
    }
   ],
   "source": [
    "frutas = {'Morango': 'Boa', 'Uva': 'Boa', 'Mamão': '-boa'}\n",
    "frutas['Morango'] = \"Muito-Boa\"\n",
    "\n",
    "print(frutas)"
   ]
  },
  {
   "cell_type": "markdown",
   "id": "bfc03aa0",
   "metadata": {},
   "source": [
    "# ESTRUTURAS DE REPETIÇÃO FOR E WHILE"
   ]
  },
  {
   "cell_type": "markdown",
   "id": "18d094fc",
   "metadata": {},
   "source": [
    "01) use um loop for para imprimir numeros de 1 a 5 com a função range\n",
    "02) usando o loop while, imprima os múltiplos menos que 20.\n",
    "03) escreva um código que encontre a soma dos números pares de 1 a 10."
   ]
  },
  {
   "cell_type": "code",
   "execution_count": 54,
   "id": "9bfe63c8",
   "metadata": {},
   "outputs": [
    {
     "name": "stdout",
     "output_type": "stream",
     "text": [
      "1\n",
      "2\n",
      "3\n",
      "4\n",
      "5\n"
     ]
    }
   ],
   "source": [
    "for i in range(1, 6):\n",
    "    print(i)"
   ]
  },
  {
   "cell_type": "code",
   "execution_count": 55,
   "id": "e61cdc6b",
   "metadata": {},
   "outputs": [
    {
     "name": "stdout",
     "output_type": "stream",
     "text": [
      "5\n",
      "10\n",
      "15\n",
      "20\n"
     ]
    }
   ],
   "source": [
    "while i <= 20:\n",
    "    print(i)\n",
    "    i += 5"
   ]
  },
  {
   "cell_type": "code",
   "execution_count": 56,
   "id": "790ee906",
   "metadata": {},
   "outputs": [
    {
     "name": "stdout",
     "output_type": "stream",
     "text": [
      "30\n"
     ]
    }
   ],
   "source": [
    "soma = sum( i for i in range(2, 11, 2))\n",
    "\n",
    "print(soma)"
   ]
  },
  {
   "cell_type": "markdown",
   "id": "c34d900c",
   "metadata": {},
   "source": [
    "# FUNÇÕES, LAMBDA E LIST_COMPREHENSION"
   ]
  },
  {
   "cell_type": "markdown",
   "id": "60766246",
   "metadata": {},
   "source": [
    "01) crie uma função que calcule o quadrado de um número dado como argumento.\n",
    "02) utlize uma expressão lambda para elevar um número ao cubo e, em seguida, aplique-a a um número.\n",
    "03) crie uma lista de números que use list comprehension par gerar uma nova lista contendo o qudrado de cada número."
   ]
  },
  {
   "cell_type": "code",
   "execution_count": 57,
   "id": "ee6ee3de",
   "metadata": {},
   "outputs": [
    {
     "name": "stdout",
     "output_type": "stream",
     "text": [
      "25\n"
     ]
    }
   ],
   "source": [
    "def calcular_quadrado(numero):\n",
    "    quadrado = numero ** 2\n",
    "    return quadrado\n",
    "\n",
    "numero = 5\n",
    "resultado = calcular_quadrado(numero)\n",
    "\n",
    "print(resultado)"
   ]
  },
  {
   "cell_type": "code",
   "execution_count": 59,
   "id": "f517a1c6",
   "metadata": {},
   "outputs": [
    {
     "name": "stdout",
     "output_type": "stream",
     "text": [
      "64\n"
     ]
    }
   ],
   "source": [
    "cubo = lambda x: x ** 3\n",
    "\n",
    "numero = 4\n",
    "resultado = cubo(numero)\n",
    "print(resultado)"
   ]
  },
  {
   "cell_type": "markdown",
   "id": "dd0941a0",
   "metadata": {},
   "source": [
    "# TUPLAS"
   ]
  },
  {
   "cell_type": "markdown",
   "id": "b73d7261",
   "metadata": {},
   "source": [
    "01) declare uma tupla com os dias da semana. acesse o terceiro dia e imprima.\n",
    "02) dada uma tupla de números, encontre o maior e o menos valor.\n",
    "03) crie uma tupla de coordenados (x,y) que representa pontos em um plano cartesiano e imprima."
   ]
  },
  {
   "cell_type": "code",
   "execution_count": 60,
   "id": "88545f5d",
   "metadata": {},
   "outputs": [
    {
     "name": "stdout",
     "output_type": "stream",
     "text": [
      "Terça-feira\n"
     ]
    }
   ],
   "source": [
    "dias_da_semana = (\"Domingo\", \"Segunda-feira\", \"Terça-feira\", \"Quarta-feira\", \"Quinta-feira\", \"Sexta-feira\", \"Sábado\")\n",
    "\n",
    "terceiro_dia = dias_da_semana[2]\n",
    "\n",
    "print(terceiro_dia)\n"
   ]
  },
  {
   "cell_type": "code",
   "execution_count": 62,
   "id": "0a189ff8",
   "metadata": {},
   "outputs": [
    {
     "name": "stdout",
     "output_type": "stream",
     "text": [
      "25\n",
      "3\n"
     ]
    }
   ],
   "source": [
    "numeros = (10, 5, 20, 8, 15, 3, 25)\n",
    "\n",
    "maior_valor = max(numeros)\n",
    "\n",
    "menor_valor = min(numeros)\n",
    "\n",
    "print(maior_valor)\n",
    "print(menor_valor)\n"
   ]
  },
  {
   "cell_type": "code",
   "execution_count": 63,
   "id": "7c8c8bad",
   "metadata": {},
   "outputs": [
    {
     "name": "stdout",
     "output_type": "stream",
     "text": [
      "Coordenada (1, 2)\n",
      "Coordenada (3, 4)\n",
      "Coordenada (5, 6)\n",
      "Coordenada (7, 8)\n"
     ]
    }
   ],
   "source": [
    "coordenadas = ((1, 2), (3, 4), (5, 6), (7, 8))\n",
    "\n",
    "for ponto in coordenadas:\n",
    "    x, y = ponto\n",
    "    print(f\"Coordenada ({x}, {y})\")\n"
   ]
  }
 ],
 "metadata": {
  "kernelspec": {
   "display_name": "Python 3 (ipykernel)",
   "language": "python",
   "name": "python3"
  },
  "language_info": {
   "codemirror_mode": {
    "name": "ipython",
    "version": 3
   },
   "file_extension": ".py",
   "mimetype": "text/x-python",
   "name": "python",
   "nbconvert_exporter": "python",
   "pygments_lexer": "ipython3",
   "version": "3.11.2"
  }
 },
 "nbformat": 4,
 "nbformat_minor": 5
}
