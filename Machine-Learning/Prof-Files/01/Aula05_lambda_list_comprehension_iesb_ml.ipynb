{
 "cells": [
  {
   "cell_type": "markdown",
   "id": "88bba569",
   "metadata": {},
   "source": [
    "<div style=\"background-color: red;\n",
    "            padding: 25px; \n",
    "            color: white; \n",
    "            font-size: 24px;\">\n",
    "    <b>IESB</b> - Centro Universitário de Brasília\n",
    "    \n",
    "</div>\n",
    "<div style=\"background-color: #FF7256;\n",
    "            padding: 11px; \n",
    "            color: white; \n",
    "            font-size: 11px;\">\n",
    "    <b>Curso:</b> Análise e Desensolvimento de Sistemas\n",
    "    \n",
    "</div>\n",
    "\n",
    "## Disciplina aprendizado de Máquina (ML)\n",
    "\n",
    "**Autor**:    Prof. Rodrigo Gonçalves Pinto <br>\n",
    "**Objetivo**: Introdução a linguagem python. Lambda e List Comprehension<br>\n",
    "**Bimestre**: 1º Bimestre 2023<br>\n",
    "\n",
    "**Data criação**:  20/06/2023 <br>\n",
    "**Data Alteração**: xx/xx/xxx  <br>\n",
    "**Alteração Feita**:  xxxxxxxxxxx<br>\n",
    "**Resp. pela alteração**: xxxxxxx<br>\n",
    "\n",
    "<b><i>Versão: 1.0</i></b>"
   ]
  },
  {
   "cell_type": "markdown",
   "id": "b990fd96",
   "metadata": {},
   "source": [
    "## List Comprehension\n",
    "\n",
    "[expressão for item in iterable if condição == True]\n",
    "\n",
    "## Expressão lambda\n",
    "utilizado para simplificar uma função em uma linha de comando."
   ]
  },
  {
   "cell_type": "code",
   "execution_count": 2,
   "id": "78c09ce8",
   "metadata": {},
   "outputs": [
    {
     "data": {
      "text/plain": [
       "[0,\n",
       " 1,\n",
       " 2,\n",
       " 3,\n",
       " 4,\n",
       " 5,\n",
       " 6,\n",
       " 7,\n",
       " 8,\n",
       " 9,\n",
       " 10,\n",
       " 11,\n",
       " 12,\n",
       " 13,\n",
       " 14,\n",
       " 15,\n",
       " 16,\n",
       " 17,\n",
       " 18,\n",
       " 19,\n",
       " 20,\n",
       " 21,\n",
       " 22,\n",
       " 23,\n",
       " 24,\n",
       " 25,\n",
       " 26,\n",
       " 27,\n",
       " 28,\n",
       " 29,\n",
       " 30,\n",
       " 31,\n",
       " 32,\n",
       " 33,\n",
       " 34,\n",
       " 35,\n",
       " 36,\n",
       " 37,\n",
       " 38,\n",
       " 39,\n",
       " 40,\n",
       " 41,\n",
       " 42,\n",
       " 43,\n",
       " 44,\n",
       " 45,\n",
       " 46,\n",
       " 47,\n",
       " 48,\n",
       " 49,\n",
       " 50,\n",
       " 51,\n",
       " 52,\n",
       " 53,\n",
       " 54,\n",
       " 55,\n",
       " 56,\n",
       " 57,\n",
       " 58,\n",
       " 59,\n",
       " 60,\n",
       " 61,\n",
       " 62,\n",
       " 63,\n",
       " 64,\n",
       " 65,\n",
       " 66,\n",
       " 67,\n",
       " 68,\n",
       " 69,\n",
       " 70,\n",
       " 71,\n",
       " 72,\n",
       " 73,\n",
       " 74,\n",
       " 75,\n",
       " 76,\n",
       " 77,\n",
       " 78,\n",
       " 79,\n",
       " 80,\n",
       " 81,\n",
       " 82,\n",
       " 83,\n",
       " 84,\n",
       " 85,\n",
       " 86,\n",
       " 87,\n",
       " 88,\n",
       " 89,\n",
       " 90,\n",
       " 91,\n",
       " 92,\n",
       " 93,\n",
       " 94,\n",
       " 95,\n",
       " 96,\n",
       " 97,\n",
       " 98,\n",
       " 99]"
      ]
     },
     "execution_count": 2,
     "metadata": {},
     "output_type": "execute_result"
    }
   ],
   "source": [
    "# List comprehension  que imprime os 100 numeros\n",
    "[elemento for elemento in range(100)]"
   ]
  },
  {
   "cell_type": "code",
   "execution_count": 3,
   "id": "48b85bee",
   "metadata": {},
   "outputs": [
    {
     "name": "stdout",
     "output_type": "stream",
     "text": [
      "[1, 4, 9, 16, 25]\n"
     ]
    }
   ],
   "source": [
    "# Exemplo 1: Elevando todos os elementos de uma lista ao quadrado\n",
    "lista = [1, 2, 3, 4, 5]\n",
    "\n",
    "lista_ao_quadrado = [x ** 2 for x in lista]\n",
    "\n",
    "print(lista_ao_quadrado)\n",
    "\n",
    "\n"
   ]
  },
  {
   "cell_type": "code",
   "execution_count": 4,
   "id": "79a0b668",
   "metadata": {},
   "outputs": [
    {
     "name": "stdout",
     "output_type": "stream",
     "text": [
      "[2, 4]\n"
     ]
    }
   ],
   "source": [
    "\n",
    "# Exemplo 2: Filtrando apenas os números pares de uma lista\n",
    "lista = [1, 2, 3, 4, 5]\n",
    "\n",
    "numeros_pares = [x for x in lista if x % 2 == 0]\n",
    "print(numeros_pares)  # Saída: [2, 4]\n"
   ]
  },
  {
   "cell_type": "code",
   "execution_count": 5,
   "id": "9b117458",
   "metadata": {},
   "outputs": [
    {
     "name": "stdout",
     "output_type": "stream",
     "text": [
      "['A COPA', 'DO', 'MUNDO DE FUTEBOL', 'ESTÁ CHEGANDO!!']\n"
     ]
    }
   ],
   "source": [
    "# Exemplo 3: Convertendo uma lista de strings para letras maiúsculas\n",
    "lista = [\"A copa\", \"do\", \"mundo de futebol\", \"está chegando!!\"]\n",
    "\n",
    "maiusculas = [x.upper() for x in lista]\n",
    "print(maiusculas)"
   ]
  },
  {
   "cell_type": "markdown",
   "id": "669eb355",
   "metadata": {},
   "source": [
    "# Expressão Lambda\n",
    "* utilizada para simplificar uma função que retorna um valor"
   ]
  },
  {
   "cell_type": "code",
   "execution_count": 5,
   "id": "8b214b2b",
   "metadata": {},
   "outputs": [],
   "source": [
    "# Para entendermos o funcionamento da expressão lambda, vamos escrever a seguinte função.\n",
    "\n",
    "# Note: utilizamos aqui 3 linhas de código\n",
    "def baseElevadoPotenciaDois(base):\n",
    "    potenciacao = base ** 2\n",
    "    return potenciacao"
   ]
  },
  {
   "cell_type": "code",
   "execution_count": 2,
   "id": "1d4f5d9a",
   "metadata": {},
   "outputs": [
    {
     "data": {
      "text/plain": [
       "100"
      ]
     },
     "execution_count": 2,
     "metadata": {},
     "output_type": "execute_result"
    }
   ],
   "source": [
    "# executando a função criada passando como argumento ao parâmetro o valor 10\n",
    "baseElevadoPotenciaDois(10)"
   ]
  },
  {
   "cell_type": "code",
   "execution_count": 3,
   "id": "89e8a5a8",
   "metadata": {},
   "outputs": [],
   "source": [
    "# vamos simplificar ainda mais esta função deixando apenas duas linhas de código\n",
    "def baseElevadoPotenciaDois(base):\n",
    "\n",
    "    return base ** 2"
   ]
  },
  {
   "cell_type": "code",
   "execution_count": 4,
   "id": "81723b54",
   "metadata": {},
   "outputs": [
    {
     "data": {
      "text/plain": [
       "64"
      ]
     },
     "execution_count": 4,
     "metadata": {},
     "output_type": "execute_result"
    }
   ],
   "source": [
    "# executando novamente a função passando como argumento ao parâmetro o valor 8\n",
    "baseElevadoPotenciaDois(8)"
   ]
  },
  {
   "cell_type": "code",
   "execution_count": 6,
   "id": "2ef6b7d2",
   "metadata": {},
   "outputs": [
    {
     "data": {
      "text/plain": [
       "25"
      ]
     },
     "execution_count": 6,
     "metadata": {},
     "output_type": "execute_result"
    }
   ],
   "source": [
    "# AGORA SIM expressão Lambda de uma linha\n",
    "potenciacao = lambda base: base ** 2\n",
    "\n",
    "\n",
    "#Perceba: potenciacao que é o nome que recebe o valor de lambda, é utilizado para chamar a\n",
    "#espressão lambda criada.\n",
    "potenciacao(5)"
   ]
  },
  {
   "cell_type": "code",
   "execution_count": 7,
   "id": "a8bf7402",
   "metadata": {},
   "outputs": [
    {
     "data": {
      "text/plain": [
       "True"
      ]
     },
     "execution_count": 7,
     "metadata": {},
     "output_type": "execute_result"
    }
   ],
   "source": [
    "# verifica se um dado numero aleatório x é par!\n",
    "\n",
    "#operadores de comparação retornam boolean. True ou False\n",
    "\n",
    "eh_par = lambda x: x % 2 == 0\n",
    "\n",
    "#chamando a funcao\n",
    "eh_par(8)"
   ]
  }
 ],
 "metadata": {
  "kernelspec": {
   "display_name": "Python 3 (ipykernel)",
   "language": "python",
   "name": "python3"
  },
  "language_info": {
   "codemirror_mode": {
    "name": "ipython",
    "version": 3
   },
   "file_extension": ".py",
   "mimetype": "text/x-python",
   "name": "python",
   "nbconvert_exporter": "python",
   "pygments_lexer": "ipython3",
   "version": "3.11.2"
  }
 },
 "nbformat": 4,
 "nbformat_minor": 5
}
