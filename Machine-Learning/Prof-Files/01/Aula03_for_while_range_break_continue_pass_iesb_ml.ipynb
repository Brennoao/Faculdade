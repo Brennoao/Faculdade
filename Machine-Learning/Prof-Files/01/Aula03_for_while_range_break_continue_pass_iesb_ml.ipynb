{
 "cells": [
  {
   "cell_type": "markdown",
   "id": "4c24a492",
   "metadata": {},
   "source": [
    "<div style=\"background-color: red;\n",
    "            padding: 25px; \n",
    "            color: white; \n",
    "            font-size: 24px;\">\n",
    "    <b>IESB</b> - Centro Universitário de Brasília\n",
    "    \n",
    "</div>\n",
    "<div style=\"background-color: OrangeRed;\n",
    "            padding: 11px; \n",
    "            color: white; \n",
    "            font-size: 11px;\">\n",
    "    <b>Curso:</b> Análise e Desensolvimento de Sistemas\n",
    "    \n",
    "</div>\n",
    "\n",
    "## Disciplina aprendizado de Máquina (ML)\n",
    "\n",
    "**Autor**:    Prof. Rodrigo Gonçalves Pinto <br>\n",
    "**Objetivo**: Introdução a linguagem python. Estruturas de repetição<br>\n",
    "**Bimestre**: 1º Bimestre 2023<br>\n",
    "\n",
    "**Data criação**:  20/06/2023 <br>\n",
    "**Data Alteração**: xx/xx/xxx  <br>\n",
    "**Alteração Feita**:  xxxxxxxxxxx<br>\n",
    "**Resp. pela alteração**: xxxxxxx<br>\n",
    "\n",
    "<b><i>Versão: 1.0</i></b>\n",
    "\n"
   ]
  },
  {
   "cell_type": "markdown",
   "id": "4ca12dfc",
   "metadata": {},
   "source": []
  },
  {
   "cell_type": "markdown",
   "id": "11796a34",
   "metadata": {},
   "source": [
    "## Estruturas de repetição, For, While"
   ]
  },
  {
   "cell_type": "code",
   "execution_count": null,
   "id": "da5383f5",
   "metadata": {},
   "outputs": [],
   "source": [
    "# Entendendo o loop for\n",
    "\n",
    "tupla_imutavel = (1, 2, 3, 4, 5, 6, 7, 8, 9, 10)\n",
    "\n",
    "# para cada elemento i que consta na tupla, faça!\n",
    "for i in tupla_imutavel:\n",
    "    print(i) # imprima i. (Notação Matricial)\n",
    "#LOOP = laço\n"
   ]
  },
  {
   "cell_type": "code",
   "execution_count": 1,
   "id": "cee70e2e",
   "metadata": {},
   "outputs": [
    {
     "name": "stdout",
     "output_type": "stream",
     "text": [
      "Brasil\n",
      "Itália\n",
      "França\n",
      "Argentina\n",
      "Espanha\n"
     ]
    }
   ],
   "source": [
    "# cria uma lista e imprimindo valores\n",
    "grupo_a_copa_do_mundo = [\"Brasil\", \"Itália\", \"França\", \"Argentina\", \"Espanha\"]\n",
    "\n",
    "# para cada elemento (i) que consta na lista (grupo_a_copa_do_mundo), faça!\n",
    "for i in grupo_a_copa_do_mundo:\n",
    "    print(i) # imprima o elemento\n",
    "# LOOP = laço"
   ]
  },
  {
   "cell_type": "code",
   "execution_count": null,
   "id": "9b7a7f70",
   "metadata": {},
   "outputs": [],
   "source": [
    "# imprimindo intervalo de valores com a função range(inicio, fim, passo)\n",
    "\n",
    "# para cada elemento (i) que consta na função range, faça!\n",
    "# inicio =0\n",
    "# fim = 100\n",
    "# passo =1 --> padrão\n",
    "for i in range(0,100):\n",
    "    print(i)\n",
    "\n",
    " "
   ]
  },
  {
   "cell_type": "code",
   "execution_count": null,
   "id": "d4f755a2",
   "metadata": {},
   "outputs": [],
   "source": [
    "# imprimindo intervalo de valores com a função range(inicio, fim, passo)\n",
    "\n",
    "# para cada elemento (i) que consta na função range, faça!\n",
    "# inicio =0\n",
    "# fim = 100\n",
    "# passo = 10\n",
    "for i in range(0,100, 10):\n",
    "    print(i)\n",
    "\n"
   ]
  },
  {
   "cell_type": "code",
   "execution_count": null,
   "id": "6ee6859d",
   "metadata": {},
   "outputs": [],
   "source": [
    "# imprimindo número pares\n",
    "for i in range(0,100):\n",
    "    if i % 2 == 0:\n",
    "        print(i)\n",
    "\n"
   ]
  },
  {
   "cell_type": "code",
   "execution_count": null,
   "id": "9015d3f7",
   "metadata": {},
   "outputs": [],
   "source": [
    "# entendendo indices de strings\n",
    "frase = \"Bom dia, ja amanheceu na fazendinha.\"\n",
    "\n",
    "for i in frase:\n",
    "    print(i)\n"
   ]
  },
  {
   "cell_type": "markdown",
   "id": "20ddb460",
   "metadata": {},
   "source": [
    "## Estruturas de repetição aninhadas (For aninhado)\n"
   ]
  },
  {
   "cell_type": "code",
   "execution_count": null,
   "id": "6e70ff83",
   "metadata": {},
   "outputs": [],
   "source": [
    "vetor1 = [0, 1, 2, 3, 4]\n",
    "\n",
    "vetor2 = [1,2,3]\n",
    "\n",
    "# loop externo\n",
    "for i in vetor1:\n",
    "    # loop interno\n",
    "    for j in vetor2:\n",
    "        print(\"\\n\", i + j)\n",
    "    \n",
    "    print(\" fim da iteração\", i)"
   ]
  },
  {
   "cell_type": "code",
   "execution_count": null,
   "id": "abd6335c",
   "metadata": {},
   "outputs": [],
   "source": [
    "# Fazendo um for decentemente\n",
    "\n",
    "vetor1 = [0, 1, 2, 3, 4]\n",
    "\n",
    "vetor2 = [1,2,3]\n",
    "\n",
    "\n",
    "valor1 = 0\n",
    "valor2 =0\n",
    "resultado = 0\n",
    "\n",
    "# loop externo\n",
    "for i in vetor1:\n",
    "    # loop interno\n",
    "    for j in vetor2:\n",
    "        valor1 = i\n",
    "        valor2 = j\n",
    "        \n",
    "        resultado = i + j\n",
    "        \n",
    "        print(\"\\n\", resultado)\n",
    "    \n",
    "    print(\" fim da iteração\", i)"
   ]
  },
  {
   "cell_type": "code",
   "execution_count": null,
   "id": "dd599ee4",
   "metadata": {},
   "outputs": [],
   "source": [
    "# Listando as chaves de um dicionário\n",
    "churrasco = {'dia_1':'picanha','dia_2':'costelão','dia_3':'maminha'}\n",
    "for i in churrasco:\n",
    "    print(i)"
   ]
  },
  {
   "cell_type": "code",
   "execution_count": 3,
   "id": "7f622991",
   "metadata": {},
   "outputs": [
    {
     "name": "stdout",
     "output_type": "stream",
     "text": [
      "dia_1 picanha\n",
      "dia_2 costelão\n",
      "dia_3 maminha\n"
     ]
    }
   ],
   "source": [
    "# Imprimindo chave e valor do dicionário. Usando o método items() para retornar os itens do dicionário\n",
    "churrasco = {'dia_1':'picanha','dia_2':'costelão','dia_3':'maminha'}\n",
    "\n",
    "for i,v in churrasco.items():\n",
    "    print (i,v)"
   ]
  },
  {
   "cell_type": "markdown",
   "id": "933bcc58",
   "metadata": {},
   "source": [
    "## While (faça)"
   ]
  },
  {
   "cell_type": "code",
   "execution_count": 7,
   "id": "9602e18a",
   "metadata": {},
   "outputs": [
    {
     "name": "stdout",
     "output_type": "stream",
     "text": [
      "I\n",
      "E\n",
      "S\n",
      "B\n"
     ]
    }
   ],
   "source": [
    "# Vamos utilizar o loop while para imprimir os caracteres de uma sring\n",
    "# A diferença entre o while e o for, é que o for faz a checagem no início da repetição\n",
    "# o while faz a checagem no final da repetição, sendo, que deve existir uma condição falsa para\n",
    "# sair do loop (laço, repetição).\n",
    "\n",
    "# a condição tem que deixar de ser verdadeira dentro do loop, senão pode travar o computador.\n",
    "\n",
    "texto = \"IESB\" # contém 3 caracteres iniciando do zero.\n",
    "valor = 0\n",
    "\n",
    "while valor <= 3: #controle do contador\n",
    "    print(texto[valor]) # imprimi o índice contido na string iniciando com 0\n",
    "    valor = valor + 1 # adiciono + 1 a contador, quando o valor = 3 ele sai do loop."
   ]
  },
  {
   "cell_type": "code",
   "execution_count": 13,
   "id": "627a1b87",
   "metadata": {},
   "outputs": [
    {
     "name": "stdout",
     "output_type": "stream",
     "text": [
      "9\n"
     ]
    }
   ],
   "source": [
    "# Para entrar no loop, a condição da primeira iteração deve ser VERDADEIRA (TRUE)\n",
    "escalar = 50 # usar 9.\n",
    "while escalar < 10:\n",
    "    print(escalar)\n",
    "    escalar = escalar + 1"
   ]
  },
  {
   "cell_type": "code",
   "execution_count": 18,
   "id": "b2a4b71f",
   "metadata": {},
   "outputs": [
    {
     "name": "stdout",
     "output_type": "stream",
     "text": [
      "o valor de x é:  0\n",
      " x é menor que 5. Somando 1 a x\n",
      "\n",
      "\n",
      "o valor de x é:  1\n",
      " x é menor que 5. Somando 1 a x\n",
      "\n",
      "\n",
      "o valor de x é:  2\n",
      " x é menor que 5. Somando 1 a x\n",
      "\n",
      "\n",
      "o valor de x é:  3\n",
      " x é menor que 5. Somando 1 a x\n",
      "\n",
      "\n",
      "o valor de x é:  4\n",
      " x é menor que 5. Somando 1 a x\n",
      "\n",
      "\n",
      "Loop finalizado, pois x é == 5\n",
      "5\n"
     ]
    }
   ],
   "source": [
    "# Usando o condicional ELSE para encerrar o loop while.\n",
    "x = 0\n",
    "\n",
    "while x < 5: # TRUE\n",
    "    print ('o valor de x é: ', x)\n",
    "    print (' x é menor que 5. Somando 1 a x')\n",
    "    print(\"\\n\")\n",
    "    x += 1 \n",
    "else: # FALSE\n",
    "    print ('Loop finalizado, pois x é == 5')\n",
    "print(x)"
   ]
  },
  {
   "cell_type": "markdown",
   "id": "fcbe178c",
   "metadata": {},
   "source": [
    "### controladores do for e while\n",
    "* __***Pass, Break, Continue***__"
   ]
  },
  {
   "cell_type": "code",
   "execution_count": 24,
   "id": "7564f93d",
   "metadata": {},
   "outputs": [
    {
     "name": "stdout",
     "output_type": "stream",
     "text": [
      "0\n",
      "1\n",
      "2\n",
      "3\n",
      "4\n",
      "5\n"
     ]
    }
   ],
   "source": [
    " # Se encontrarmos o número 7 na lista interrompemos o loop while.\n",
    "lista = [1, 2, 3, 4, 5, 6, 7, 8, 9, 10]\n",
    "    \n",
    "contador = 0   # iniciando a variável com o primeiro índice da lista \n",
    "\n",
    "while contador < 10:\n",
    "    if lista[contador] == 7:\n",
    "        break # interronpe o while\n",
    "    else:\n",
    "        pass # continua com o while\n",
    "    print(contador) # imprima o índice\n",
    "    contador = contador + 1"
   ]
  },
  {
   "cell_type": "code",
   "execution_count": 6,
   "id": "48e98fcb",
   "metadata": {},
   "outputs": [
    {
     "name": "stdout",
     "output_type": "stream",
     "text": [
      "1\n",
      "3\n",
      "5\n",
      "7\n",
      "9\n"
     ]
    }
   ],
   "source": [
    "# Pulando uma iteração com a palavra reservada continue.\n",
    "\n",
    "# cria um vetor com 10 valores\n",
    "numeros = [1, 2, 3, 4, 5, 6, 7, 8, 9, 10]\n",
    "\n",
    "# inicio do for. Para cade elemento (numero) na lista (numeros), faça.\n",
    "for numero in numeros:\n",
    "    if numero % 2 == 0: # se o resto da divisão por 2 for igual a zero, pule! (voltar para a instrução FOR).\n",
    "        continue  # Pula para a próxima iteração se o número for par\n",
    "    print(numero)\n"
   ]
  },
  {
   "cell_type": "markdown",
   "id": "391a7d27",
   "metadata": {},
   "source": [
    "### While e For no mesmo laço."
   ]
  },
  {
   "cell_type": "code",
   "execution_count": 19,
   "id": "69c94350",
   "metadata": {},
   "outputs": [
    {
     "name": "stdout",
     "output_type": "stream",
     "text": [
      "2 3 5 7 11 13 17 19 23 29 31 37 41 43 47 53 59 61 67 71 73 79 83 89 97 CPU times: total: 0 ns\n",
      "Wall time: 0 ns\n"
     ]
    }
   ],
   "source": [
    "%%time\n",
    "\n",
    "# encontrando números primos de 0 a 100 contidos em uma lista\n",
    "\n",
    "# Verificação de números primos de 0 a 100\n",
    "\n",
    "lista_primos = []\n",
    "num = 2\n",
    "\n",
    "while num <= 100:\n",
    "    e_primo = True\n",
    "    for divisor in lista_primos:\n",
    "        if num % divisor == 0:\n",
    "            e_primo = False\n",
    "            break\n",
    "    if e_primo:\n",
    "        lista_primos.append(num)\n",
    "    num += 1\n",
    "\n",
    "# Exibição dos números primos\n",
    "for i in lista_primos:\n",
    "    print(i, end=\" \")\n",
    "\n"
   ]
  },
  {
   "cell_type": "markdown",
   "id": "ddc4f12f",
   "metadata": {},
   "source": [
    "### Range (intervalo de valores)\n",
    "__range(inicio, fim, passo)__"
   ]
  },
  {
   "cell_type": "code",
   "execution_count": 21,
   "id": "a558c395",
   "metadata": {},
   "outputs": [
    {
     "name": "stdout",
     "output_type": "stream",
     "text": [
      "0 1 2 3 4 5 6 7 8 9 10 11 12 13 14 15 16 17 18 19 20 21 22 23 24 25 26 27 28 29 30 31 32 33 34 35 36 37 38 39 40 41 42 43 44 45 46 47 48 49 50 51 52 53 54 55 56 57 58 59 60 61 62 63 64 65 66 67 68 69 70 71 72 73 74 75 76 77 78 79 80 81 82 83 84 85 86 87 88 89 90 91 92 93 94 95 96 97 98 99 100 "
     ]
    }
   ],
   "source": [
    "# imprimindo números de 0 a 100\n",
    "for i in range(0,101):\n",
    "    print(i, end=\" \")\n"
   ]
  },
  {
   "cell_type": "code",
   "execution_count": 22,
   "id": "39a0f734",
   "metadata": {},
   "outputs": [
    {
     "name": "stdout",
     "output_type": "stream",
     "text": [
      "5 7 9 11 13 15 17 19 21 23 25 27 29 31 33 35 37 39 41 43 45 47 49 51 53 55 57 59 61 63 65 67 69 71 73 75 77 79 81 83 85 87 89 91 93 95 97 99 "
     ]
    }
   ],
   "source": [
    "#imprimir números de 5 a 100 de 2 em 2.\n",
    "for i in range(5,101,2):\n",
    "    print(i, end= \" \")"
   ]
  },
  {
   "cell_type": "code",
   "execution_count": 23,
   "id": "50fa1bde",
   "metadata": {},
   "outputs": [
    {
     "name": "stdout",
     "output_type": "stream",
     "text": [
      "Brasil Italia França Espanha "
     ]
    }
   ],
   "source": [
    "# usando lista com a função range\n",
    "\n",
    "lista_grupo_a_copa_2026 = [\"Brasil\", \"Italia\", \"França\", \"Espanha\"]\n",
    "lista_tamanho = len(lista_grupo_a_copa_2026)\n",
    "\n",
    "for i in range(0, lista_tamanho):\n",
    "    print(lista_grupo_a_copa_2026[i], end =\" \")\n"
   ]
  },
  {
   "cell_type": "markdown",
   "id": "30e0ed1f",
   "metadata": {},
   "source": [
    "### Métodos de um objeto\n",
    "Métodos de um objeto são <b>FUNÇÕES</b> já escritas utilizadas para facilitar a vida do desenvolvedor\n",
    "\n",
    "* Tudo em python é um objeto\n",
    "* Todos os objetos possuem métodos\n",
    "* Atributos em linguagem de programação, são caracteristicas do objeto"
   ]
  },
  {
   "cell_type": "code",
   "execution_count": 3,
   "id": "97046a88",
   "metadata": {},
   "outputs": [],
   "source": [
    "# criando uma lista, que é um objeto\n",
    "# vamos utilizar essa lista para os códigos nas outras células\n",
    "\n",
    "lista_1 =[100, 99,89,-2, 0]\n"
   ]
  },
  {
   "cell_type": "code",
   "execution_count": 5,
   "id": "4fe21e1a",
   "metadata": {},
   "outputs": [
    {
     "data": {
      "text/plain": [
       "list"
      ]
     },
     "execution_count": 5,
     "metadata": {},
     "output_type": "execute_result"
    }
   ],
   "source": [
    "type(lista_1)"
   ]
  },
  {
   "cell_type": "code",
   "execution_count": 6,
   "id": "d481f970",
   "metadata": {},
   "outputs": [
    {
     "data": {
      "text/plain": [
       "[100, 99, 89, -2, 0]"
      ]
     },
     "execution_count": 6,
     "metadata": {},
     "output_type": "execute_result"
    }
   ],
   "source": [
    "lista_1\n"
   ]
  },
  {
   "cell_type": "code",
   "execution_count": 16,
   "id": "331d819c",
   "metadata": {},
   "outputs": [],
   "source": [
    "lista_1.append(258) # método append.\n",
    "lista_1.append(99)"
   ]
  },
  {
   "cell_type": "code",
   "execution_count": 18,
   "id": "87d2506b",
   "metadata": {},
   "outputs": [
    {
     "name": "stdout",
     "output_type": "stream",
     "text": [
      "[100, 99, 89, -2, 0, 258, 258, 99]\n"
     ]
    }
   ],
   "source": [
    "print(lista_1)"
   ]
  },
  {
   "cell_type": "code",
   "execution_count": 17,
   "id": "ecfe893b",
   "metadata": {},
   "outputs": [
    {
     "data": {
      "text/plain": [
       "2"
      ]
     },
     "execution_count": 17,
     "metadata": {},
     "output_type": "execute_result"
    }
   ],
   "source": [
    "# outro método count()\n",
    "# conta quantos elementos possui na lista\n",
    "lista_1.count(99)"
   ]
  },
  {
   "cell_type": "code",
   "execution_count": 24,
   "id": "50762b65",
   "metadata": {},
   "outputs": [
    {
     "name": "stdout",
     "output_type": "stream",
     "text": [
      "Help on built-in function append:\n",
      "\n",
      "append(object, /) method of builtins.list instance\n",
      "    Append object to the end of the list.\n",
      "\n",
      " \n",
      "\n",
      "Help on built-in function count:\n",
      "\n",
      "count(value, /) method of builtins.list instance\n",
      "    Return number of occurrences of value.\n",
      "\n"
     ]
    }
   ],
   "source": [
    "# help: função utilizada para explicar como utilizar um método.\n",
    "help(lista_1.append)\n",
    "print(\"\", \"\\n\")\n",
    "help(lista_1.count)"
   ]
  },
  {
   "cell_type": "code",
   "execution_count": 27,
   "id": "9e34e04b",
   "metadata": {},
   "outputs": [
    {
     "data": {
      "text/plain": [
       "['__add__',\n",
       " '__class__',\n",
       " '__class_getitem__',\n",
       " '__contains__',\n",
       " '__delattr__',\n",
       " '__delitem__',\n",
       " '__dir__',\n",
       " '__doc__',\n",
       " '__eq__',\n",
       " '__format__',\n",
       " '__ge__',\n",
       " '__getattribute__',\n",
       " '__getitem__',\n",
       " '__gt__',\n",
       " '__hash__',\n",
       " '__iadd__',\n",
       " '__imul__',\n",
       " '__init__',\n",
       " '__init_subclass__',\n",
       " '__iter__',\n",
       " '__le__',\n",
       " '__len__',\n",
       " '__lt__',\n",
       " '__mul__',\n",
       " '__ne__',\n",
       " '__new__',\n",
       " '__reduce__',\n",
       " '__reduce_ex__',\n",
       " '__repr__',\n",
       " '__reversed__',\n",
       " '__rmul__',\n",
       " '__setattr__',\n",
       " '__setitem__',\n",
       " '__sizeof__',\n",
       " '__str__',\n",
       " '__subclasshook__',\n",
       " 'append',\n",
       " 'clear',\n",
       " 'copy',\n",
       " 'count',\n",
       " 'extend',\n",
       " 'index',\n",
       " 'insert',\n",
       " 'pop',\n",
       " 'remove',\n",
       " 'reverse',\n",
       " 'sort']"
      ]
     },
     "execution_count": 27,
     "metadata": {},
     "output_type": "execute_result"
    }
   ],
   "source": [
    "# comando dir, todos os métodos( ), atributos __ de um objeto.\n",
    "\n",
    "dir(lista_1)\n",
    "\n"
   ]
  }
 ],
 "metadata": {
  "kernelspec": {
   "display_name": "Python 3 (ipykernel)",
   "language": "python",
   "name": "python3"
  },
  "language_info": {
   "codemirror_mode": {
    "name": "ipython",
    "version": 3
   },
   "file_extension": ".py",
   "mimetype": "text/x-python",
   "name": "python",
   "nbconvert_exporter": "python",
   "pygments_lexer": "ipython3",
   "version": "3.10.9"
  }
 },
 "nbformat": 4,
 "nbformat_minor": 5
}
