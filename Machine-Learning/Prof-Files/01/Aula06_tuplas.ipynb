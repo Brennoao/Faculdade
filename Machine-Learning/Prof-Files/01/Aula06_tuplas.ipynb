{
 "cells": [
  {
   "cell_type": "markdown",
   "id": "c1a56bca",
   "metadata": {},
   "source": [
    "<div style=\"background-color: red;\n",
    "            padding: 25px; \n",
    "            color: white; \n",
    "            font-size: 24px;\">\n",
    "    <b>IESB</b> - Centro Universitário de Brasília\n",
    "    \n",
    "</div>\n",
    "<div style=\"background-color: #FF7256;\n",
    "            padding: 11px; \n",
    "            color: white; \n",
    "            font-size: 11px;\">\n",
    "    <b>Curso:</b> Análise e Desensolvimento de Sistemas\n",
    "    \n",
    "</div>\n",
    "\n",
    "## Disciplina aprendizado de Máquina (ML)\n",
    "\n",
    "**Autor**:    Prof. Rodrigo Gonçalves Pinto <br>\n",
    "**Objetivo**: Introdução a linguagem python. Tuplas<br>\n",
    "**Bimestre**: 1º Bimestre 2023<br>\n",
    "\n",
    "**Data criação**:  20/06/2023 <br>\n",
    "**Data Alteração**: xx/xx/xxx  <br>\n",
    "**Alteração Feita**:  xxxxxxxxxxx<br>\n",
    "**Resp. pela alteração**: xxxxxxx<br>\n",
    "\n",
    "<b><i>Versão: 1.0</i></b>"
   ]
  },
  {
   "cell_type": "markdown",
   "id": "a90290a2",
   "metadata": {},
   "source": [
    "## Tuplas"
   ]
  },
  {
   "cell_type": "code",
   "execution_count": null,
   "id": "055be07f",
   "metadata": {},
   "outputs": [],
   "source": [
    "# como criar uma tupla\n",
    "# para tuplas utilizamos parenteses\n",
    "# tuplas são imutáveis.\n",
    "\n",
    "frutas = ('maça', 'banana', 'laranja')\n",
    "\n",
    "print(frutas)\n"
   ]
  },
  {
   "cell_type": "code",
   "execution_count": 10,
   "id": "19a3031b",
   "metadata": {},
   "outputs": [
    {
     "ename": "AttributeError",
     "evalue": "'tuple' object has no attribute 'append'",
     "output_type": "error",
     "traceback": [
      "\u001b[1;31m---------------------------------------------------------------------------\u001b[0m",
      "\u001b[1;31mAttributeError\u001b[0m                            Traceback (most recent call last)",
      "Cell \u001b[1;32mIn[10], line 4\u001b[0m\n\u001b[0;32m      1\u001b[0m \u001b[38;5;66;03m# tuplas não tem método append()\u001b[39;00m\n\u001b[0;32m      2\u001b[0m \u001b[38;5;66;03m# diferente das listas, tuplas são imutáveis, então você não pode adicionar elementos com append\u001b[39;00m\n\u001b[0;32m      3\u001b[0m \u001b[38;5;66;03m# Isso resultará em um erro: AttributeError: 'tuple' object has no attribute 'append'\u001b[39;00m\n\u001b[1;32m----> 4\u001b[0m \u001b[43mfrutas\u001b[49m\u001b[38;5;241;43m.\u001b[39;49m\u001b[43mappend\u001b[49m(\u001b[38;5;124m'\u001b[39m\u001b[38;5;124muva\u001b[39m\u001b[38;5;124m'\u001b[39m)\n",
      "\u001b[1;31mAttributeError\u001b[0m: 'tuple' object has no attribute 'append'"
     ]
    }
   ],
   "source": [
    "# tuplas não tem método append()\n",
    "# diferente das listas, tuplas são imutáveis, então você não pode adicionar elementos com append\n",
    "# Isso resultará em um erro: AttributeError: 'tuple' object has no attribute 'append'\n",
    "frutas.append('uva')\n"
   ]
  },
  {
   "cell_type": "code",
   "execution_count": 11,
   "id": "158484d7",
   "metadata": {},
   "outputs": [
    {
     "ename": "TypeError",
     "evalue": "'tuple' object doesn't support item deletion",
     "output_type": "error",
     "traceback": [
      "\u001b[1;31m---------------------------------------------------------------------------\u001b[0m",
      "\u001b[1;31mTypeError\u001b[0m                                 Traceback (most recent call last)",
      "Cell \u001b[1;32mIn[11], line 3\u001b[0m\n\u001b[0;32m      1\u001b[0m \u001b[38;5;66;03m#  como tuplas são imutáveis, então não é possível usar del para remover elementos\u001b[39;00m\n\u001b[0;32m      2\u001b[0m \u001b[38;5;66;03m# logo, resultará em um erro: TypeError: 'tuple' object doesn't support item deletion\u001b[39;00m\n\u001b[1;32m----> 3\u001b[0m \u001b[38;5;28;01mdel\u001b[39;00m frutas[\u001b[38;5;241m0\u001b[39m]\n",
      "\u001b[1;31mTypeError\u001b[0m: 'tuple' object doesn't support item deletion"
     ]
    }
   ],
   "source": [
    "#  como tuplas são imutáveis, então não é possível usar del para remover elementos\n",
    "# logo, resultará em um erro: TypeError: 'tuple' object doesn't support item deletion\n",
    "del frutas[0]\n"
   ]
  },
  {
   "cell_type": "code",
   "execution_count": 12,
   "id": "d53e0d05",
   "metadata": {},
   "outputs": [
    {
     "name": "stdout",
     "output_type": "stream",
     "text": [
      "Quantidade de frutas: 3\n"
     ]
    }
   ],
   "source": [
    "# usando a função len para contar os elementos da tupla\n",
    "\n",
    "quantidade = len(frutas)\n",
    "print(\"Quantidade de frutas:\", quantidade)\n"
   ]
  },
  {
   "cell_type": "code",
   "execution_count": 13,
   "id": "efc97caa",
   "metadata": {},
   "outputs": [
    {
     "name": "stdout",
     "output_type": "stream",
     "text": [
      "('banana',)\n"
     ]
    }
   ],
   "source": [
    "# slicing funciona da mesma forma em tuplas e listas\n",
    "# obtendo os elementos do índice 1 ao 2 (não incluindo o 2)\n",
    "print(frutas[1:2])\n"
   ]
  },
  {
   "cell_type": "code",
   "execution_count": 14,
   "id": "7b596463",
   "metadata": {},
   "outputs": [
    {
     "name": "stdout",
     "output_type": "stream",
     "text": [
      "maça\n",
      "laranja\n"
     ]
    }
   ],
   "source": [
    "# usando o índice para acessar elementos específicos da tupla\n",
    "print(frutas[0])  # Primeiro elemento\n",
    "print(frutas[2])  # Terceiro elemento\n"
   ]
  },
  {
   "cell_type": "code",
   "execution_count": 15,
   "id": "b4c42161",
   "metadata": {},
   "outputs": [
    {
     "ename": "TypeError",
     "evalue": "'tuple' object does not support item assignment",
     "output_type": "error",
     "traceback": [
      "\u001b[1;31m---------------------------------------------------------------------------\u001b[0m",
      "\u001b[1;31mTypeError\u001b[0m                                 Traceback (most recent call last)",
      "Cell \u001b[1;32mIn[15], line 3\u001b[0m\n\u001b[0;32m      1\u001b[0m \u001b[38;5;66;03m# não é possível atribuir novos elementos em tuplas\u001b[39;00m\n\u001b[0;32m      2\u001b[0m \u001b[38;5;66;03m# Isso resultará em um erro: TypeError: 'tuple' object does not support item assignment\u001b[39;00m\n\u001b[1;32m----> 3\u001b[0m frutas[\u001b[38;5;241m0\u001b[39m] \u001b[38;5;241m=\u001b[39m \u001b[38;5;124m'\u001b[39m\u001b[38;5;124mpera\u001b[39m\u001b[38;5;124m'\u001b[39m\n",
      "\u001b[1;31mTypeError\u001b[0m: 'tuple' object does not support item assignment"
     ]
    }
   ],
   "source": [
    "# não é possível atribuir novos elementos em tuplas\n",
    "# Isso resultará em um erro: TypeError: 'tuple' object does not support item assignment\n",
    "frutas[0] = 'pera'\n"
   ]
  },
  {
   "cell_type": "code",
   "execution_count": 3,
   "id": "414f95bc",
   "metadata": {},
   "outputs": [
    {
     "name": "stdout",
     "output_type": "stream",
     "text": [
      "Tupla convertida em lista: ['maçã', 'banana', 'laranja']\n",
      "Tupla convertida em dicionário: {'fruta1': 'maçã', 'fruta2': 'banana', 'fruta3': 'laranja'}\n"
     ]
    }
   ],
   "source": [
    "# convertendo uma tupla em lista e em dicionario\n",
    "\n",
    "# tupla\n",
    "frutas = ('maçã', 'banana', 'laranja')\n",
    "\n",
    "# convertendo uma tupla em uma lista\n",
    "frutas_lista = list(frutas)\n",
    "print(\"Tupla convertida em lista:\", frutas_lista)\n",
    "\n",
    "\n",
    "# convertendo uma tupla em um dicionário\n",
    "# percebe que foram criadas chaves para o dicionário, a tupla em si, serão os valores para estas chaves recém criadas.\n",
    "chaves = ['fruta1', 'fruta2', 'fruta3']\n",
    "\n",
    "\n",
    "\n",
    "\n",
    "\n",
    "\n",
    "\n",
    "# função zip() combina elementos chave e valor em tuplas.\n",
    "frutas_dicionario = dict(zip(chaves, frutas))\n",
    "\n",
    "print(\"Tupla convertida em dicionário:\", frutas_dicionario)\n"
   ]
  },
  {
   "cell_type": "code",
   "execution_count": 2,
   "id": "ec7b228d",
   "metadata": {},
   "outputs": [
    {
     "name": "stdout",
     "output_type": "stream",
     "text": [
      "('uva', 'morango', 'abacaxi')\n",
      "<class 'tuple'>\n"
     ]
    }
   ],
   "source": [
    "# convertendo um lista em uma tupla\n",
    "\n",
    "# criando uma lista\n",
    "outras_frutas = ['uva', 'morango', 'abacaxi']\n",
    "\n",
    "# tuple() para converte uma lista em uma tupla\n",
    "outras_frutas_tupla = tuple(outras_frutas)\n",
    "\n",
    "print(outras_frutas_tupla)\n",
    "print(type(outras_frutas_tupla))\n",
    "\n"
   ]
  },
  {
   "cell_type": "markdown",
   "id": "b8b6b48e",
   "metadata": {},
   "source": [
    "# FIM"
   ]
  }
 ],
 "metadata": {
  "kernelspec": {
   "display_name": "Python 3 (ipykernel)",
   "language": "python",
   "name": "python3"
  },
  "language_info": {
   "codemirror_mode": {
    "name": "ipython",
    "version": 3
   },
   "file_extension": ".py",
   "mimetype": "text/x-python",
   "name": "python",
   "nbconvert_exporter": "python",
   "pygments_lexer": "ipython3",
   "version": "3.11.2"
  }
 },
 "nbformat": 4,
 "nbformat_minor": 5
}
