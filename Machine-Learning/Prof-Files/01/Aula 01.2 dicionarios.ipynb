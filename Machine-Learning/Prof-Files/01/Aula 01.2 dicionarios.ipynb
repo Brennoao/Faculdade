{
 "cells": [
  {
   "cell_type": "markdown",
   "id": "189c5cfe",
   "metadata": {},
   "source": [
    "<div style=\"background-color: red;\n",
    "            padding: 25px; \n",
    "            color: white; \n",
    "            font-size: 24px;\">\n",
    "    <b>IESB</b> - Centro Universitário de Brasília\n",
    "    \n",
    "</div>\n",
    "<div style=\"background-color: OrangeRed;\n",
    "            padding: 11px; \n",
    "            color: white; \n",
    "            font-size: 11px;\">\n",
    "    <b>Curso:</b> Análise e Desensolvimento de Sistemas\n",
    "    \n",
    "</div>\n",
    "\n",
    "## Disciplina aprendizado de Máquina (ML)\n",
    "\n",
    "**Autor**:    Prof. Rodrigo Gonçalves Pinto <br>\n",
    "**Objetivo**: Introdução a linguagem python.Dicionários<br>\n",
    "**Bimestre**: 1º Bimestre 2023<br>\n",
    "\n",
    "**Data criação**:  20/06/2023 <br>\n",
    "**Data Alteração**: xx/xx/xxx  <br>\n",
    "**Alteração Feita**:  xxxxxxxxxxx<br>\n",
    "**Resp. pela alteração**: xxxxxxx<br>\n",
    "\n",
    "<b><i>Versão: 1.0</i></b>"
   ]
  },
  {
   "cell_type": "code",
   "execution_count": 2,
   "id": "2ab6363e",
   "metadata": {},
   "outputs": [
    {
     "name": "stdout",
     "output_type": "stream",
     "text": [
      "['João', 45, 'Ana', 18, 'Márcio', 22]\n"
     ]
    }
   ],
   "source": [
    "# Para entendermos dicionários, vamos criar uma lista com nomes de pessoas e suas idades.\n",
    "\n",
    "pessoas_idade = [\"João\", 45, \"Ana\", 18, \"Márcio\", 22]\n",
    "\n",
    "print(pessoas_idade)"
   ]
  },
  {
   "cell_type": "code",
   "execution_count": 1,
   "id": "16944f27",
   "metadata": {},
   "outputs": [
    {
     "ename": "NameError",
     "evalue": "name 'pessoas_idade' is not defined",
     "output_type": "error",
     "traceback": [
      "\u001b[0;31m---------------------------------------------------------------------------\u001b[0m",
      "\u001b[0;31mNameError\u001b[0m                                 Traceback (most recent call last)",
      "Cell \u001b[0;32mIn[1], line 1\u001b[0m\n\u001b[0;32m----> 1\u001b[0m \u001b[39mtype\u001b[39m(pessoas_idade)\n",
      "\u001b[0;31mNameError\u001b[0m: name 'pessoas_idade' is not defined"
     ]
    }
   ],
   "source": [
    "type(pessoas_idade)"
   ]
  },
  {
   "cell_type": "code",
   "execution_count": 3,
   "id": "4fa21a3d",
   "metadata": {},
   "outputs": [
    {
     "name": "stdout",
     "output_type": "stream",
     "text": [
      "{'João': 45, 'Ana': 18, 'Márcio': 22}\n"
     ]
    }
   ],
   "source": [
    "# o mesma lógica, só que agora na forma de dicionário{chave:valor}\n",
    "pessoas_idade_dict = {\"João\":45, \"Ana\":18, \"Márcio\":22}\n",
    "\n",
    "print(pessoas_idade_dict)"
   ]
  },
  {
   "cell_type": "code",
   "execution_count": 4,
   "id": "1ee54c0e",
   "metadata": {},
   "outputs": [
    {
     "data": {
      "text/plain": [
       "dict"
      ]
     },
     "execution_count": 4,
     "metadata": {},
     "output_type": "execute_result"
    }
   ],
   "source": [
    "type(pessoas_idade_dict)"
   ]
  },
  {
   "cell_type": "markdown",
   "id": "aba0597d",
   "metadata": {},
   "source": [
    "## Dicionários então são?\n",
    "- Um dicionário em Python é uma estrutura de dados do tipo coleção, que contém mais de um valor.\n",
    "É composto por pares de chave-valor, onde cada chave é única e associada a um valor específico.\n",
    "Ao contrário das listas, que acessam elementos por meio de índices, os dicionários acessam informações por meio de chaves\n",
    "Os dicionários em Python são criados usando a sintaxe {chave1: valor1, chave2: valor2, ...} \n"
   ]
  },
  {
   "cell_type": "code",
   "execution_count": 5,
   "id": "06388d8c",
   "metadata": {},
   "outputs": [
    {
     "name": "stdout",
     "output_type": "stream",
     "text": [
      "Nome do estudante: João\n",
      "Idade do estudante: 20\n",
      "nome: João\n",
      "idade: 20\n",
      "nota_final: 88\n",
      "matrícula: 2023-12345\n"
     ]
    }
   ],
   "source": [
    "# Criando um dicionário de informações de um estudante\n",
    "estudante = {\n",
    "    'nome': 'João',\n",
    "    'idade': 20,\n",
    "    'curso': 'Ciência da Computação',\n",
    "    'nota_final': 95\n",
    "}\n",
    "\n",
    "# Acessando valores usando chaves\n",
    "print(\"Nome do estudante:\", estudante['nome'])\n",
    "print(\"Idade do estudante:\", estudante['idade'])\n",
    "\n",
    "# Modificando um valor\n",
    "estudante['nota_final'] = 88\n",
    "\n",
    "# Adicionando um novo par chave-valor\n",
    "estudante['matrícula'] = '2023-12345'\n",
    "\n",
    "# Removendo um par chave-valor\n",
    "del estudante['curso']\n",
    "\n",
    "# Iterando sobre as chaves e valores do dicionário\n",
    "for chave, valor in estudante.items():\n",
    "    print(chave + \":\", valor)\n"
   ]
  },
  {
   "cell_type": "code",
   "execution_count": 6,
   "id": "892591c7",
   "metadata": {},
   "outputs": [
    {
     "name": "stdout",
     "output_type": "stream",
     "text": [
      "22\n"
     ]
    }
   ],
   "source": [
    "# Acessando um valor em um dicionário\n",
    "estudante = {'nome': 'Maria', 'idade': 22, 'curso': 'Engenharia'}\n",
    "\n",
    "idade = estudante['idade']\n",
    "\n",
    "print(idade)\n",
    "\n"
   ]
  },
  {
   "cell_type": "code",
   "execution_count": 7,
   "id": "52e4b887",
   "metadata": {},
   "outputs": [
    {
     "name": "stdout",
     "output_type": "stream",
     "text": [
      "{}\n"
     ]
    }
   ],
   "source": [
    "# Usando o método clear() para limpar um dicionário\n",
    "\n",
    "dicionario = {'a': 1, 'b': 2, 'c': 3}\n",
    "\n",
    "dicionario.clear()\n",
    "\n",
    "print(dicionario)  # Saída: {}\n"
   ]
  },
  {
   "cell_type": "code",
   "execution_count": 12,
   "id": "de0a8de1",
   "metadata": {},
   "outputs": [],
   "source": [
    "#Apagando um dicionário\n",
    "\n",
    "dicionario = {'x': 10, 'y': 20}\n",
    "\n",
    "del dicionario\n",
    "# Agora o dicionário não existe mais\n"
   ]
  },
  {
   "cell_type": "code",
   "execution_count": 13,
   "id": "6a17dece",
   "metadata": {},
   "outputs": [
    {
     "name": "stdout",
     "output_type": "stream",
     "text": [
      "3\n"
     ]
    }
   ],
   "source": [
    "# Usando a função len() para obter o tamanho de um dicionário\n",
    "dicionario = {'a': 1, 'b': 2, 'c': 3}\n",
    "\n",
    "tamanho = len(dicionario)\n",
    "\n",
    "print(tamanho)  # Saída: 3\n"
   ]
  },
  {
   "cell_type": "code",
   "execution_count": 14,
   "id": "c7f481f0",
   "metadata": {},
   "outputs": [
    {
     "name": "stdout",
     "output_type": "stream",
     "text": [
      "dict_keys(['a', 'b', 'c'])\n"
     ]
    }
   ],
   "source": [
    "# Utilizando a função keys() em dicionários\n",
    "# utilizado para saber todas as chaves existentes em um dicionário.\n",
    "dicionario = {'a': 1, 'b': 2, 'c': 3}\n",
    "\n",
    "chaves = dicionario.keys()\n",
    "\n",
    "print(chaves)  # Saída: dict_keys(['a', 'b', 'c'])\n"
   ]
  },
  {
   "cell_type": "code",
   "execution_count": 15,
   "id": "005d23bd",
   "metadata": {},
   "outputs": [
    {
     "name": "stdout",
     "output_type": "stream",
     "text": [
      "dict_values([1, 2, 3])\n"
     ]
    }
   ],
   "source": [
    "# utilizando a função values() em dicionários\n",
    "# utilizado para saber todos os valores disponíveis em um dicionário.\n",
    "dicionario = {'a': 1, 'b': 2, 'c': 3}\n",
    "\n",
    "valores = dicionario.values()\n",
    "\n",
    "print(valores)  # Saída: dict_values([1, 2, 3])\n"
   ]
  },
  {
   "cell_type": "code",
   "execution_count": 20,
   "id": "67403aee",
   "metadata": {},
   "outputs": [
    {
     "name": "stdout",
     "output_type": "stream",
     "text": [
      "a\n",
      "b\n",
      "c\n"
     ]
    }
   ],
   "source": [
    "# iteração sobre chaves.\n",
    "\n",
    "dicionario = {'a': 1, 'b': 2, 'c': 3}\n",
    "for chave in dicionario.keys():\n",
    "    print(chave)\n",
    "\n",
    "\n"
   ]
  },
  {
   "cell_type": "code",
   "execution_count": 25,
   "id": "cf9f8d7e",
   "metadata": {},
   "outputs": [
    {
     "name": "stdout",
     "output_type": "stream",
     "text": [
      "Chave 'idade' encontrada.\n"
     ]
    }
   ],
   "source": [
    "# verificação de existência de chave\n",
    "\n",
    "dicionario = {'nome': 'Alice', 'idade': 25, 'cidade': 'São Paulo'}\n",
    "\n",
    "if 'idade' in dicionario.keys():\n",
    "    print(\"Chave 'idade' encontrada.\")\n",
    "\n"
   ]
  },
  {
   "cell_type": "code",
   "execution_count": 26,
   "id": "42f6f871",
   "metadata": {},
   "outputs": [
    {
     "name": "stdout",
     "output_type": "stream",
     "text": [
      "Alice\n",
      "25\n",
      "São Paulo\n"
     ]
    }
   ],
   "source": [
    "# iteração sobre valores de um dicionário.\n",
    "\n",
    "for valor in dicionario.values():\n",
    "    print(valor)\n"
   ]
  },
  {
   "cell_type": "code",
   "execution_count": 30,
   "id": "05da968c",
   "metadata": {},
   "outputs": [
    {
     "name": "stdout",
     "output_type": "stream",
     "text": [
      "Valor 25 encontrado.\n",
      "Valor São Paulo encontrado.\n"
     ]
    }
   ],
   "source": [
    "# verificação de um valor em um dicionário.\n",
    "\n",
    "if 25 in dicionario.values():\n",
    "    print(\"Valor 25 encontrado.\")\n",
    "    \n",
    "if \"São Paulo\" in dicionario.values():\n",
    "    print(\"Valor \"'São Paulo'\" encontrado.\")\n"
   ]
  },
  {
   "cell_type": "code",
   "execution_count": 33,
   "id": "5125919d",
   "metadata": {},
   "outputs": [
    {
     "name": "stdout",
     "output_type": "stream",
     "text": [
      "['Alice', 25, 'São Paulo']\n",
      "<class 'list'>\n"
     ]
    }
   ],
   "source": [
    "# converte os valores para uma lista.\n",
    "valores_lista = list(dicionario.values())\n",
    "\n",
    "print(valores_lista)\n",
    "\n",
    "print(type(valores_lista))\n"
   ]
  },
  {
   "cell_type": "code",
   "execution_count": 35,
   "id": "562b15d7",
   "metadata": {},
   "outputs": [
    {
     "name": "stdout",
     "output_type": "stream",
     "text": [
      "dict_items([('a', 1), ('b', 2), ('c', 3)])\n",
      "<class 'dict_items'>\n"
     ]
    }
   ],
   "source": [
    "# Utilizando a função items() em dicionários\n",
    "dicionario = {'a': 1, 'b': 2, 'c': 3}\n",
    "\n",
    "itens = dicionario.items()\n",
    "\n",
    "print(itens)  # Saída: dict_items([('a', 1), ('b', 2), ('c', 3)])\n",
    "print(type(itens))\n"
   ]
  },
  {
   "cell_type": "code",
   "execution_count": 36,
   "id": "0428e07f",
   "metadata": {},
   "outputs": [
    {
     "name": "stdout",
     "output_type": "stream",
     "text": [
      "Chave: a, Valor: 1\n",
      "Chave: b, Valor: 2\n",
      "Chave: c, Valor: 3\n"
     ]
    }
   ],
   "source": [
    "# função items()\n",
    "#Iteração sobre os pares chave-valor\n",
    "dicionario = {'a': 1, 'b': 2, 'c': 3}\n",
    "\n",
    "for chave, valor in dicionario.items():\n",
    "    print(f'Chave: {chave}, Valor: {valor}')\n"
   ]
  },
  {
   "cell_type": "code",
   "execution_count": 37,
   "id": "2b859f1f",
   "metadata": {},
   "outputs": [
    {
     "name": "stdout",
     "output_type": "stream",
     "text": [
      "A chave \"cidade\" existe com o valor: Rio de Janeiro\n"
     ]
    }
   ],
   "source": [
    "# função items()\n",
    "# Verificação de existência de um par chave-valor\n",
    "pessoa = {'nome': 'Carlos', 'idade': 30, 'cidade': 'Rio de Janeiro'}\n",
    "chave = 'cidade'\n",
    "\n",
    "\n",
    "if chave in pessoa.keys():\n",
    "    print(f'A chave \"{chave}\" existe com o valor: {pessoa[chave]}')\n",
    "else:\n",
    "    print(f'A chave \"{chave}\" não foi encontrada.')\n"
   ]
  },
  {
   "cell_type": "code",
   "execution_count": 39,
   "id": "c32fbcf1",
   "metadata": {},
   "outputs": [
    {
     "name": "stdout",
     "output_type": "stream",
     "text": [
      "[('nome', 'Eduardo'), ('idade', 21), ('curso', 'Matemática')]\n",
      "<class 'list'>\n"
     ]
    }
   ],
   "source": [
    "# função items()\n",
    "# Conversão para lista de tuplas chave-valor\n",
    "\n",
    "aluno = {'nome': 'Eduardo', 'idade': 21, 'curso': 'Matemática'}\n",
    "\n",
    "lista_de_itens = list(aluno.items())\n",
    "\n",
    "print(lista_de_itens)\n",
    "\n",
    "print(type(lista_de_itens))\n"
   ]
  },
  {
   "cell_type": "code",
   "execution_count": 40,
   "id": "77be1fe1",
   "metadata": {},
   "outputs": [
    {
     "name": "stdout",
     "output_type": "stream",
     "text": [
      "{'a': 1, 'b': 2, 'c': 3}\n"
     ]
    }
   ],
   "source": [
    "#Criando um novo dicionário a partir das tuplas chave-valor\n",
    "\n",
    "tuplas = [('a', 1), ('b', 2), ('c', 3)]\n",
    "\n",
    "novo_dicionario = dict(tuplas)\n",
    "\n",
    "print(novo_dicionario)\n"
   ]
  },
  {
   "cell_type": "code",
   "execution_count": 41,
   "id": "05447314",
   "metadata": {},
   "outputs": [
    {
     "name": "stdout",
     "output_type": "stream",
     "text": [
      "{'a': 1, 'b': 3, 'c': 4}\n"
     ]
    }
   ],
   "source": [
    "# Utilizando a função update() em dicionários\n",
    "dicionario = {'a': 1, 'b': 2}\n",
    "\n",
    "novos_valores = {'b': 3, 'c': 4}\n",
    "\n",
    "dicionario.update(novos_valores)\n",
    "\n",
    "print(dicionario)  # Saída: {'a': 1, 'b': 3, 'c': 4}\n"
   ]
  },
  {
   "cell_type": "code",
   "execution_count": 42,
   "id": "85fe81da",
   "metadata": {},
   "outputs": [
    {
     "name": "stdout",
     "output_type": "stream",
     "text": [
      "{'nome': 'Ana', 'idade': 25, 'notas': [90, 85, 95]}\n"
     ]
    }
   ],
   "source": [
    "# Criando um dicionário com tipos de dados diferentes\n",
    "\n",
    "dados = {'nome': 'Ana', 'idade': 25, 'notas': [90, 85, 95]}\n",
    "print(dados)\n"
   ]
  },
  {
   "cell_type": "code",
   "execution_count": 44,
   "id": "5d97c2bb",
   "metadata": {},
   "outputs": [
    {
     "name": "stdout",
     "output_type": "stream",
     "text": [
      "{'cor': 'azul'}\n"
     ]
    }
   ],
   "source": [
    "# Criando um dicionário dinamicamente\n",
    "chave = 'cor'\n",
    "\n",
    "valor = 'azul'\n",
    "\n",
    "dicionario = {chave: valor}\n",
    "\n",
    "print(dicionario)\n"
   ]
  },
  {
   "cell_type": "code",
   "execution_count": 45,
   "id": "9e3cb605",
   "metadata": {},
   "outputs": [
    {
     "name": "stdout",
     "output_type": "stream",
     "text": [
      "Os valores resgatados são:(1, 2, 3, 4) \n"
     ]
    }
   ],
   "source": [
    "# resgatando valores de um dicionário em 4 variáveis diferentes\n",
    "dicionario = {'a': 1, 'b': 2, 'c': 3, 'd': 4}\n",
    "\n",
    "var1, var2, var3, var4 = dicionario.values()\n",
    "\n",
    "print(f\"Os valores resgatados são:{var1, var2, var3, var4} \")\n"
   ]
  },
  {
   "cell_type": "code",
   "execution_count": 47,
   "id": "23468582",
   "metadata": {},
   "outputs": [
    {
     "name": "stdout",
     "output_type": "stream",
     "text": [
      " nome: José, idade: 30\n"
     ]
    }
   ],
   "source": [
    "# desempacotando um dicionário para variáveis\n",
    "pessoa = {'nome': 'José', 'idade': 30}\n",
    "\n",
    "nome, idade = pessoa.values()\n",
    "\n",
    "print(f\" nome: {nome}, idade: {idade}\")\n"
   ]
  },
  {
   "cell_type": "code",
   "execution_count": 52,
   "id": "d2bc57ea",
   "metadata": {},
   "outputs": [
    {
     "name": "stdout",
     "output_type": "stream",
     "text": [
      "['maçã', 'banana', 'laranja']\n"
     ]
    }
   ],
   "source": [
    "# utilizando dicionários de listas\n",
    "\n",
    "estoque = {'frutas': ['maçã', 'banana', 'laranja'], 'quantidades': [10, 20, 15]}\n",
    "\n",
    "print(estoque[\"frutas\"])"
   ]
  },
  {
   "cell_type": "code",
   "execution_count": 53,
   "id": "0dcd1378",
   "metadata": {},
   "outputs": [
    {
     "name": "stdout",
     "output_type": "stream",
     "text": [
      "MAÇÃ\n"
     ]
    }
   ],
   "source": [
    "# acessando um item da lista dentro de um dicionário. Em seguida, aplicando função upper().\n",
    "estoque = {'frutas': ['maçã', 'banana', 'laranja']}\n",
    "\n",
    "# acessa o elemento zero da lista.\n",
    "primeira_fruta = estoque['frutas'][0]\n",
    "\n",
    "print(primeira_fruta.upper())  # Saída: MAÇÃ\n"
   ]
  },
  {
   "cell_type": "code",
   "execution_count": 54,
   "id": "dce87fa0",
   "metadata": {},
   "outputs": [
    {
     "name": "stdout",
     "output_type": "stream",
     "text": [
      "[10, 25, 15]\n"
     ]
    }
   ],
   "source": [
    "# atribuindo um novo valor a uma lista dentro de um dicionário através de uma soma aritmética.\n",
    "\n",
    "estoque = {'frutas': ['maçã', 'banana', 'laranja'], 'quantidades': [10, 20, 15]}\n",
    "\n",
    "estoque['quantidades'][1] += 5\n",
    "\n",
    "print(estoque['quantidades'])  # Saída: [10, 25, 15]\n"
   ]
  },
  {
   "cell_type": "code",
   "execution_count": 62,
   "id": "23fc30be",
   "metadata": {},
   "outputs": [
    {
     "name": "stdout",
     "output_type": "stream",
     "text": [
      "{'João': {'idade': 20, 'curso': 'Engenharia'}, 'Maria': {'idade': 22, 'curso': 'Ciência da Computação'}} \n",
      "\n",
      "{'idade': 20, 'curso': 'Engenharia'}\n"
     ]
    }
   ],
   "source": [
    "# criação de dicionários aninhados\n",
    "alunos = {\n",
    "    'João': {'idade': 20, 'curso': 'Engenharia'},\n",
    "    'Maria': {'idade': 22, 'curso': 'Ciência da Computação'}\n",
    "}\n",
    "\n",
    "print(alunos, \"\\n\")\n",
    "print(alunos[\"João\"])\n"
   ]
  },
  {
   "cell_type": "code",
   "execution_count": 63,
   "id": "71986b06",
   "metadata": {},
   "outputs": [
    {
     "name": "stdout",
     "output_type": "stream",
     "text": [
      "20\n"
     ]
    }
   ],
   "source": [
    "# acessando valores de dicionários aninhados\n",
    "alunos = {\n",
    "    'João': {'idade': 20, 'curso': 'Engenharia'},\n",
    "    'Maria': {'idade': 22, 'curso': 'Ciência da Computação'}\n",
    "}\n",
    "\n",
    "idade_joao = alunos['João']['idade']\n",
    "\n",
    "print(idade_joao)  # Saída: 20\n"
   ]
  },
  {
   "cell_type": "markdown",
   "id": "98e65474",
   "metadata": {},
   "source": [
    "# FIM."
   ]
  }
 ],
 "metadata": {
  "kernelspec": {
   "display_name": "Python 3 (ipykernel)",
   "language": "python",
   "name": "python3"
  },
  "language_info": {
   "codemirror_mode": {
    "name": "ipython",
    "version": 3
   },
   "file_extension": ".py",
   "mimetype": "text/x-python",
   "name": "python",
   "nbconvert_exporter": "python",
   "pygments_lexer": "ipython3",
   "version": "3.11.2"
  }
 },
 "nbformat": 4,
 "nbformat_minor": 5
}
