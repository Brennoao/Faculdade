{
 "cells": [
  {
   "cell_type": "markdown",
   "id": "6311036f",
   "metadata": {},
   "source": [
    "<div style=\"background-color: red;\n",
    "            padding: 25px; \n",
    "            color: white; \n",
    "            font-size: 24px;\">\n",
    "    <b>IESB</b> - Centro Universitário de Brasília\n",
    "    \n",
    "</div>\n",
    "<div style=\"background-color: OrangeRed;\n",
    "            padding: 11px; \n",
    "            color: white; \n",
    "            font-size: 11px;\">\n",
    "    <b>Curso:</b> Análise e Desensolvimento de Sistemas\n",
    "    \n",
    "</div>\n",
    "\n",
    "## Disciplina aprendizado de Máquina (ML)\n",
    "\n",
    "**Autor**:    Prof. Rodrigo Gonçalves Pinto <br>\n",
    "**Objetivo**: Introdução a linguagem python. Pandas<br>\n",
    "**Bimestre**: 1º Bimestre 2023<br>\n",
    "\n",
    "**Data criação**:  20/06/2023 <br>\n",
    "**Data Alteração**: xx/xx/xxx  <br>\n",
    "**Alteração Feita**:  xxxxxxxxxxx<br>\n",
    "**Resp. pela alteração**: xxxxxxx<br>\n"
   ]
  },
  {
   "cell_type": "code",
   "execution_count": 2,
   "id": "90bde182",
   "metadata": {},
   "outputs": [
    {
     "ename": "ModuleNotFoundError",
     "evalue": "No module named 'pandas'",
     "output_type": "error",
     "traceback": [
      "\u001b[0;31m---------------------------------------------------------------------------\u001b[0m",
      "\u001b[0;31mModuleNotFoundError\u001b[0m                       Traceback (most recent call last)",
      "\u001b[1;32m/Volumes/Brenno 1/Code/Faculdade/Machine-Learning/Prof-Files/02/Pandas_1.0.ipynb Cell 2\u001b[0m line \u001b[0;36m4\n\u001b[1;32m      <a href='vscode-notebook-cell:/Volumes/Brenno%201/Code/Faculdade/Machine-Learning/Prof-Files/02/Pandas_1.0.ipynb#W1sZmlsZQ%3D%3D?line=0'>1</a>\u001b[0m \u001b[39m# importando uma biblioteca\u001b[39;00m\n\u001b[1;32m      <a href='vscode-notebook-cell:/Volumes/Brenno%201/Code/Faculdade/Machine-Learning/Prof-Files/02/Pandas_1.0.ipynb#W1sZmlsZQ%3D%3D?line=1'>2</a>\u001b[0m \u001b[39m# https://pandas.pydata.org/pandas-docs/stable/reference/api/pandas.read_csv.html\u001b[39;00m\n\u001b[0;32m----> <a href='vscode-notebook-cell:/Volumes/Brenno%201/Code/Faculdade/Machine-Learning/Prof-Files/02/Pandas_1.0.ipynb#W1sZmlsZQ%3D%3D?line=3'>4</a>\u001b[0m \u001b[39mimport\u001b[39;00m \u001b[39mpandas\u001b[39;00m \u001b[39mas\u001b[39;00m \u001b[39mpd\u001b[39;00m\n",
      "\u001b[0;31mModuleNotFoundError\u001b[0m: No module named 'pandas'"
     ]
    }
   ],
   "source": [
    "# importando uma biblioteca\n",
    "# https://pandas.pydata.org/pandas-docs/stable/reference/api/pandas.read_csv.html\n",
    "\n",
    "import pandas as pd"
   ]
  },
  {
   "cell_type": "code",
   "execution_count": null,
   "id": "d69f4ed0",
   "metadata": {},
   "outputs": [],
   "source": [
    "# criando um dataframe, com dicionário e lista\n",
    "data = {'nome' : [\"Alice\", \"Bob\", \"Carol\"],\n",
    "        'idade': [25     ,  30  ,  22    ]\n",
    "       }\n",
    "\n",
    "df = pd.DataFrame(data)\n",
    "\n"
   ]
  },
  {
   "cell_type": "code",
   "execution_count": null,
   "id": "96c933ac",
   "metadata": {},
   "outputs": [],
   "source": [
    "# visualizar o dataframe.\n",
    "df"
   ]
  },
  {
   "cell_type": "code",
   "execution_count": null,
   "id": "1876f33b",
   "metadata": {},
   "outputs": [],
   "source": [
    "# Carregando dados de um arquivo .csv\n",
    "\n",
    "caminho_absoluto ='.\\\\dados\\\\mcdonalds.csv'\n",
    "\n",
    "# parâmetros ao carregar arquivos csv.\n",
    "\n",
    "df_csv =pd.read_csv(caminho_absoluto)"
   ]
  },
  {
   "cell_type": "code",
   "execution_count": null,
   "id": "aeec79e4",
   "metadata": {},
   "outputs": [],
   "source": [
    "df_csv"
   ]
  },
  {
   "cell_type": "code",
   "execution_count": null,
   "id": "ec1d03bc",
   "metadata": {},
   "outputs": [],
   "source": [
    "df_csv_2 = pd.read_csv('.\\\\dados\\\\mcdonalds.csv', \n",
    "                       delimiter=\",\", # delimitador é vírgula\n",
    "                       header= 0,     # a primeira linha contém nomes de colunas\n",
    "                       encoding= 'utf-8'\n",
    "                      )\n",
    "\n",
    "df_csv_2\n"
   ]
  },
  {
   "cell_type": "code",
   "execution_count": null,
   "id": "4cce7e5c",
   "metadata": {},
   "outputs": [],
   "source": [
    "# verificando os tipos de dados de cada coluna de um dataframe\n",
    "\n",
    "df_csv_2.dtypes"
   ]
  },
  {
   "cell_type": "code",
   "execution_count": null,
   "id": "ce5624f8",
   "metadata": {},
   "outputs": [],
   "source": [
    "# carregando dados de um arquivo em excel\n",
    "df_excel = pd.read_excel(\".\\\\dados\\\\novo_mcdonalds.xlsx\", sheet_name =\"McDonalds_Novo\")\n",
    "\n",
    "\n",
    "print(df_excel)"
   ]
  },
  {
   "cell_type": "code",
   "execution_count": null,
   "id": "164b079a",
   "metadata": {},
   "outputs": [],
   "source": [
    "# explorando um dataframe\n",
    "# lista as primeiras 5 linhas\n",
    "print(df_csv.head())\n",
    "\n"
   ]
  },
  {
   "cell_type": "code",
   "execution_count": null,
   "id": "dda28265",
   "metadata": {},
   "outputs": [],
   "source": [
    "del df_csv_2"
   ]
  },
  {
   "cell_type": "code",
   "execution_count": null,
   "id": "6c7fd6f4",
   "metadata": {},
   "outputs": [],
   "source": [
    "# o mesmo comando acima, mas gora com n=10\n",
    "print(df_csv.head(n=10))"
   ]
  },
  {
   "cell_type": "code",
   "execution_count": null,
   "id": "0d25569e",
   "metadata": {},
   "outputs": [],
   "source": [
    "# visualizando o final do dataset com tail\n",
    "# n = igual o número de linhas utilizadas na visualização.\n",
    "print(df_csv.tail(n=3))"
   ]
  },
  {
   "cell_type": "code",
   "execution_count": null,
   "id": "52225eb4",
   "metadata": {},
   "outputs": [],
   "source": [
    "# visualizando  informações do dataset\n",
    "# este comando visualiza a estrutura do dataset.\n",
    "\n",
    "print(df_csv.info())"
   ]
  },
  {
   "cell_type": "code",
   "execution_count": null,
   "id": "3957ade8",
   "metadata": {},
   "outputs": [],
   "source": [
    "# fazendo um resumo estatístico do dataset com describe()\n",
    "print(df_csv.describe())"
   ]
  },
  {
   "cell_type": "code",
   "execution_count": null,
   "id": "478ecd6d",
   "metadata": {},
   "outputs": [],
   "source": [
    "# filtrando colunas\n",
    "df_csv[\"Lanche\"]"
   ]
  },
  {
   "cell_type": "code",
   "execution_count": null,
   "id": "8b54fa18",
   "metadata": {},
   "outputs": [],
   "source": [
    "# adicionando uma coluna a uma variável\n",
    "\n",
    "coluna_lanches = df_csv[\"Lanche\"]\n",
    "\n",
    "print(coluna_lanches)\n",
    "# print(type(coluna_lanches))"
   ]
  },
  {
   "cell_type": "code",
   "execution_count": null,
   "id": "74ec4bb1",
   "metadata": {},
   "outputs": [],
   "source": [
    "# filtrando dados o python base\n",
    "# perceba que utilizamos a referencia 2 vezes do dataframe.\n",
    "\n",
    "df_filtrado = df_csv[df_csv[\"Lanche\"] == \"Angus Bacon\"]"
   ]
  },
  {
   "cell_type": "code",
   "execution_count": null,
   "id": "135a290d",
   "metadata": {},
   "outputs": [],
   "source": [
    "# imprimindo o dataframe filtrado\n",
    "print(df_filtrado)"
   ]
  },
  {
   "cell_type": "code",
   "execution_count": null,
   "id": "fd926fa2",
   "metadata": {},
   "outputs": [],
   "source": [
    "# ordenando os dados\n",
    "# primeiro vamos visualizar o dataframe com apenas 15 linhas\n",
    "\n",
    "print(df_csv.head(n=15))\n",
    "\n",
    "# perceba que os lanches estão fora de ordem, vamos ordenálos.\n"
   ]
  },
  {
   "cell_type": "code",
   "execution_count": null,
   "id": "597a5f81",
   "metadata": {},
   "outputs": [],
   "source": [
    "# ordenando o dataframe em ordem crescente\n",
    "df_ordenado = df_csv.sort_values(by=\"Lanche\")\n",
    "\n",
    "print(df_ordenado)"
   ]
  },
  {
   "cell_type": "code",
   "execution_count": null,
   "id": "113bc9ef",
   "metadata": {},
   "outputs": [],
   "source": [
    "# ordenanção decrescente\n",
    "\n",
    "df_ordenado_descrescente = df_csv.sort_values(by=[\"Lanche\", \"Valor Energetico\"], ascending=False)\n",
    "\n",
    "\n",
    "df_ordenado_descrescente\n"
   ]
  },
  {
   "cell_type": "code",
   "execution_count": null,
   "id": "5969d06c",
   "metadata": {},
   "outputs": [],
   "source": [
    "# criando um dataframe\n",
    "import numpy as np\n",
    "\n",
    "\n",
    "# observe que criamos de propósito um vetor com nan.\n",
    "df_na = pd.Series([1, 3, 5, np.nan, 6, 8])\n",
    "\n",
    "print(df_na)\n",
    "#print(type(df_na))"
   ]
  },
  {
   "cell_type": "code",
   "execution_count": null,
   "id": "d91b64c5",
   "metadata": {},
   "outputs": [],
   "source": [
    "# removendo valores nulos\n",
    "\n",
    "df_sem_na = df_na.dropna()\n",
    "\n",
    "print(df_sem_na)\n"
   ]
  },
  {
   "cell_type": "code",
   "execution_count": null,
   "id": "9b5d2340",
   "metadata": {},
   "outputs": [],
   "source": [
    "# aplicando uma função lambda a uma coluna de um dataframe,adicionando uma coluna\n",
    "\n",
    "df_csv[\"nova_coluna\"] = df_csv[\"Ferro\"].apply(lambda x: x*2)\n",
    "\n",
    "print(df_csv)"
   ]
  },
  {
   "cell_type": "code",
   "execution_count": null,
   "id": "9f529928",
   "metadata": {},
   "outputs": [],
   "source": [
    "# apagando uma coluna do dataframe\n",
    "\n",
    "#del df_csv[\"Lancher\"]\n",
    "del df_csv[\"nova_coluna\"]\n"
   ]
  },
  {
   "cell_type": "code",
   "execution_count": null,
   "id": "937f6b28",
   "metadata": {},
   "outputs": [],
   "source": [
    "print(df_csv)"
   ]
  },
  {
   "cell_type": "code",
   "execution_count": null,
   "id": "3d83b68e",
   "metadata": {},
   "outputs": [],
   "source": [
    "# aplicando funções\n",
    "# somando os valores de duas colunas e guardando o resultado em outra coluna\n",
    "\n",
    "df_csv[\"calcio_ferro\"] = df_csv[\"Calcio\"] + df_csv[\"Ferro\"]\n",
    "\n",
    "print(df_csv)"
   ]
  },
  {
   "cell_type": "code",
   "execution_count": null,
   "id": "10f28f43",
   "metadata": {},
   "outputs": [],
   "source": [
    "# utilizando funções built-in em dataframes\n",
    "# média mean().\n",
    "# aplicando a méddia\n",
    "carboidrato_medio = df_csv[\"Carboidratos\"].mean()\n",
    "\n",
    "print(carboidrato_medio)"
   ]
  },
  {
   "cell_type": "code",
   "execution_count": null,
   "id": "c4a1e45c",
   "metadata": {},
   "outputs": [],
   "source": [
    "# agrupamento de dados com groupby\n",
    "\n",
    "grupo_valor_energetico= df_csv.groupby(\"Valor Energetico\").count()\n",
    "\n",
    "print(grupo_valor_energetico)"
   ]
  },
  {
   "cell_type": "code",
   "execution_count": null,
   "id": "822baea6",
   "metadata": {},
   "outputs": [],
   "source": [
    "# junção de dataframes\n",
    "df1 = pd.DataFrame({'Chave': [1, 2, 3], 'Valor1': ['A', 'B', 'C']})\n",
    "\n",
    "df2 = pd.DataFrame({'Chave': [2, 3, 4], 'Valor2': ['X', 'Y', 'Z']})\n",
    "\n",
    "df_junto = pd.merge(df1, df2, on='Chave', how='inner')\n",
    "\n",
    "print(df_junto)"
   ]
  },
  {
   "cell_type": "code",
   "execution_count": null,
   "id": "68166afb",
   "metadata": {},
   "outputs": [],
   "source": [
    "# gravando um arquivo csv\n",
    "\n",
    "df_csv.to_csv('.\\\\dados\\\\novo_mcdonalds.csv', \n",
    "              index=False,\n",
    "              sep= \";\",\n",
    "              encoding= \"utf-8\"\n",
    "             )\n",
    "\n"
   ]
  },
  {
   "cell_type": "code",
   "execution_count": null,
   "id": "bfa71398",
   "metadata": {},
   "outputs": [],
   "source": [
    "# gravando um arquivo excel\n",
    "\n",
    "df_csv.to_excel(\".\\\\dados\\\\novo_mcdonalds.xlsx\", sheet_name =\"McDonalds_Novo\", index=False)\n",
    "   \n"
   ]
  },
  {
   "cell_type": "code",
   "execution_count": null,
   "id": "fe0a8398",
   "metadata": {},
   "outputs": [],
   "source": [
    "# selecionando uma coluna do dataframe\n",
    "\n",
    "df_csv[\"Lanche\"]\n"
   ]
  },
  {
   "cell_type": "code",
   "execution_count": null,
   "id": "d66f4085",
   "metadata": {},
   "outputs": [],
   "source": [
    "# selecionando mais de uma coluna\n",
    "# utilizar colchetes duplos.\n",
    "df_csv[[\"Lanche\", \"Carboidratos\"]]"
   ]
  },
  {
   "cell_type": "code",
   "execution_count": null,
   "id": "c22159c1",
   "metadata": {},
   "outputs": [],
   "source": [
    "# filtrando lanches onde as calorias > 300\n",
    "\n",
    "#df_csv.head(n = 5)\n",
    "\n",
    "calorias_maior_300 = df_csv[df_csv[\"Valor Energetico\"] > 300]\n",
    "\n",
    "\n",
    "\n",
    "print(calorias_maior_300.sort_values(by= \"Valor Energetico\"))"
   ]
  },
  {
   "cell_type": "code",
   "execution_count": null,
   "id": "f7d0f5ac",
   "metadata": {},
   "outputs": [],
   "source": [
    "# carregando o dataframe titanic\n",
    "\n",
    "titanic = pd.read_csv(\"./dados/titanic.csv\")\n",
    "\n",
    "print(titanic.head(n = 2))\n",
    "\n",
    "\n"
   ]
  },
  {
   "cell_type": "code",
   "execution_count": null,
   "id": "5eceff7f",
   "metadata": {},
   "outputs": [],
   "source": [
    "# selecionando passageiros da segunda de terceira classe,apenas\n",
    "\n",
    "class_23 = titanic[titanic[\"Pclass\"].isin([2, 3])]\n",
    "\n",
    "print(class_23.head(n = 2))\n",
    "\n",
    "print(class_23.shape)\n",
    "# retorna a quantidade de linhas e colunas da seleção.\n",
    "\n"
   ]
  },
  {
   "cell_type": "code",
   "execution_count": null,
   "id": "bbed9d67",
   "metadata": {},
   "outputs": [],
   "source": [
    "# o mesmo filtro acima pode ser realizado utilizando operadores..\n",
    "# para filtros dessa natureza, não pode ser utilizado operadores comuns\n",
    "# como and ou or. Ao invés disso , usar operador | = or e & = and.\n",
    "\n",
    "\n",
    "class_23 = titanic[(titanic[\"Pclass\"]== 2) |(titanic[\"Pclass\"] ==3)]\n",
    "\n",
    "\n",
    "print(class_23.shape)\n"
   ]
  },
  {
   "cell_type": "code",
   "execution_count": null,
   "id": "ed3e7a90",
   "metadata": {},
   "outputs": [],
   "source": [
    "# Vamos fazer o mesmo código acima, só que agora usando &(and).\n",
    "\n",
    "class_23 = titanic[(titanic[\"Pclass\"] == 2) & (titanic[\"Pclass\"] == 3)] \n",
    "\n",
    "print(class_23.shape)\n",
    "# porque retornou um dataset vazio??"
   ]
  },
  {
   "cell_type": "code",
   "execution_count": null,
   "id": "34fab972",
   "metadata": {},
   "outputs": [],
   "source": [
    "# trabalhando com dataset que a idade não contem valores na.\n",
    "idade_sem_na = titanic[titanic[\"Age\"].notna()]\n",
    "\n",
    "print(idade_sem_na)"
   ]
  },
  {
   "cell_type": "code",
   "execution_count": null,
   "id": "d2bf7e3e",
   "metadata": {},
   "outputs": [],
   "source": [
    "# Filtrando nomes dos passageiros maiores que 35 anos e sua classe.\n",
    "# Quando querer apenas uma coluna apos o teste booleano, não precisa usar\n",
    "# parenteses.\n",
    "# usando a instrução loc\n",
    "# após a vírgula, vem o nome da coluna que necessitamos\n",
    "\n",
    "passageiros_mais_35 = titanic.loc[titanic[\"Age\"] > 35, (\"Name\", \"Pclass\")]\n",
    "\n",
    "print(passageiros_mais_35)"
   ]
  },
  {
   "cell_type": "code",
   "execution_count": null,
   "id": "201bf82f",
   "metadata": {},
   "outputs": [],
   "source": [
    "# Usando a instruçao iloc para buscar dados no dataset\n",
    "# o iloc busca dados atrvés de linhas e colunas\n",
    "# é utlizado para fazer slice.\n",
    "\n",
    "#neste exmplo vamos buscar dados que iniciam na lina 10 até 25 e colunas 3 e 5\n",
    "# iloc[inicio_linha:fim_linha, inicio_coluna : fim_coluna]\n",
    "# lembrando que os indices começam do zero.\n",
    "\n",
    "#titanic.head(n = 2)\n",
    "\n",
    "titanic.iloc[9:25, 2:5]"
   ]
  },
  {
   "cell_type": "code",
   "execution_count": null,
   "id": "21a8a276",
   "metadata": {},
   "outputs": [],
   "source": [
    "# Como criar gráficos com pandas\n",
    "# usando o pacote matplotlib.pyplot as plt\n",
    "# os métodos plot, são aplicados em dataframes.\n",
    "# por default, cada coluna é plotada com um diferente elemento( linha, boxplot)\n",
    "# Qualquer plot criar pelo pandas é um Matplotlib objeo.\n",
    "\n",
    "\n",
    "import matplotlib.pyplot as plt"
   ]
  },
  {
   "cell_type": "code",
   "execution_count": null,
   "id": "30790267",
   "metadata": {},
   "outputs": [],
   "source": [
    "# Para estes exemplos,vamos utilizar um dataset que verifica a qualidade do ar.\n",
    "\n",
    "# importando o dataset que está em csv.\n",
    "\n",
    "air_quality = pd.read_csv(\".\\\\dados\\\\air_quality_no2.csv\", index_col=0, parse_dates =True)\n",
    "\n",
    "\n"
   ]
  },
  {
   "cell_type": "code",
   "execution_count": null,
   "id": "d192e66b",
   "metadata": {},
   "outputs": [],
   "source": [
    "print(air_quality)"
   ]
  },
  {
   "cell_type": "code",
   "execution_count": null,
   "id": "ca7c48c3",
   "metadata": {},
   "outputs": [],
   "source": [
    "# visualizando um gráfico padrão.\n",
    "# perceba que primeiro é necessário montar o gráfico com o método plot().\n",
    "# após, é ncessário solicitar para o python mostrar o gráfico com método show.\n",
    "\n",
    "air_quality.plot()\n",
    "\n",
    "plt.show()\n",
    "\n",
    "#observe que por default, o pandas através de um dataframe , cria um gráfico de linnhas \n",
    "#com os dados contidos no dataset."
   ]
  },
  {
   "cell_type": "code",
   "execution_count": null,
   "id": "a725409f",
   "metadata": {},
   "outputs": [],
   "source": [
    "# vamos ir fatiando este gráfico.\n",
    "# vamos agora plotar um gráfico com os dados somente de Paris.\n",
    "air_quality[\"station_paris\"].plot()\n",
    "    \n",
    "plt.show()"
   ]
  },
  {
   "cell_type": "code",
   "execution_count": null,
   "id": "d0e9bc64",
   "metadata": {},
   "outputs": [],
   "source": [
    "# Fazendo um gráfico scatter plot, ou dispersão de pontos.\n",
    "\n",
    "# neste exemplo vamos criar um gráfico onde é possível comparar\n",
    "# a emissão de NO2 (Dióxido de Nitrogênio) entre londres e Paris.\n",
    "\n",
    "air_quality.plot.scatter(x= \"station_london\",y=\"station_paris\", alpha = 0.5)\n",
    "\n",
    "plt.show()"
   ]
  },
  {
   "cell_type": "code",
   "execution_count": null,
   "id": "a08a0ccc",
   "metadata": {},
   "outputs": [],
   "source": [
    "# Verifica quais gráficos podemos fazer com plot.\n",
    "\n",
    "[\n",
    "    method_name\n",
    "    for method_name in dir(air_quality.plot)\n",
    "    if not method_name.startswith(\"_\")\n",
    "]"
   ]
  },
  {
   "cell_type": "code",
   "execution_count": null,
   "id": "b001d3c0",
   "metadata": {},
   "outputs": [],
   "source": [
    "# fazendo um boxplot\n",
    "\n",
    "air_quality.plot.box()\n",
    "\n",
    "plt.show()"
   ]
  },
  {
   "cell_type": "code",
   "execution_count": null,
   "id": "349e4bed",
   "metadata": {},
   "outputs": [],
   "source": [
    "# plotando cada coluna em um subgráfico separado.\n",
    "# figsize = tamanho da figura(largura, altura)\n",
    "subgrafico = air_quality.plot.area(figsize=(15,5), subplots= True)\n",
    "\n",
    "plt.show()"
   ]
  },
  {
   "cell_type": "code",
   "execution_count": null,
   "id": "b4672bfc",
   "metadata": {},
   "outputs": [],
   "source": [
    "# customizando um gráfico com label e  gravar.\n",
    "\n",
    "fig, grafico_areas = plt.subplots(figsize=(12, 4)) # cria a area vazia de um gráfico\n",
    "\n",
    "air_quality.plot.area(ax=grafico_areas) # usa pandas para colocar um gráfico.\n",
    "\n",
    "\n",
    "subgrafico.set_ylabel(\"NO2_2 concentration\") # utiliza escrita no eixo das ordenadas\n",
    "\n",
    "\n",
    "fig.savefig(\".\\\\dados\\\\no2_concentrations.png\") # grava o gráfico em uma pasta no formato png\n",
    "\n",
    "plt.show() # mostra o gráfico.\n",
    "\n"
   ]
  },
  {
   "cell_type": "code",
   "execution_count": null,
   "id": "23f3e904",
   "metadata": {},
   "outputs": [],
   "source": [
    "# Voltando ao pandas.\n",
    "# como criar uma nova coluna derivando de colunas já existentes\n",
    "\n",
    "# exemplo,\n",
    "# expressar a concentração de NO2( dióxido de nitrogênio) nas estção de londres em mg/m3.\n",
    "# para esta conversão, é necessário assumir a temperatura de 25 graus Celsius e pressão de 1013 hPa para poder\n",
    "# usar a constante 1.882.\n",
    "\n",
    "air_quality[\"londres_mg_por_m3\"] = air_quality[\"station_london\"]* 1.882\n",
    "\n",
    "air_quality.head(n =3)\n",
    "\n",
    "\n",
    "# o cálculo dos elementos são feitos sem a necessidade de efetuar uma instrução FOR.\n",
    "# ou qualquer estrutura de laço. A fórmula é aplicada elemento por elemente em cada coluna.\n",
    "\n"
   ]
  },
  {
   "cell_type": "code",
   "execution_count": null,
   "id": "fb2fcd34",
   "metadata": {},
   "outputs": [],
   "source": []
  }
 ],
 "metadata": {
  "kernelspec": {
   "display_name": "Python 3 (ipykernel)",
   "language": "python",
   "name": "python3"
  },
  "language_info": {
   "codemirror_mode": {
    "name": "ipython",
    "version": 3
   },
   "file_extension": ".py",
   "mimetype": "text/x-python",
   "name": "python",
   "nbconvert_exporter": "python",
   "pygments_lexer": "ipython3",
   "version": "3.10.9"
  }
 },
 "nbformat": 4,
 "nbformat_minor": 5
}
