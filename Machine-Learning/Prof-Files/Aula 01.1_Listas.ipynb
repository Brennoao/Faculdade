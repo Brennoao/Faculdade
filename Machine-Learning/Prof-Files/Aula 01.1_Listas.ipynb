{
 "cells": [
  {
   "cell_type": "markdown",
   "id": "7473453e",
   "metadata": {},
   "source": [
    "<div style=\"background-color: red;\n",
    "            padding: 25px; \n",
    "            color: white; \n",
    "            font-size: 24px;\">\n",
    "    <b>IESB</b> - Centro Universitário de Brasília\n",
    "    \n",
    "</div>\n",
    "<div style=\"background-color: OrangeRed;\n",
    "            padding: 11px; \n",
    "            color: white; \n",
    "            font-size: 11px;\">\n",
    "    <b>Curso:</b> Análise e Desensolvimento de Sistemas\n",
    "    \n",
    "</div>\n",
    "\n",
    "## Disciplina aprendizado de Máquina (ML)\n",
    "\n",
    "**Autor**:    Prof. Rodrigo Gonçalves Pinto <br>\n",
    "**Objetivo**: Introdução a linguagem python:Listas.<br>\n",
    "**Bimestre**: 1º Bimestre 2023<br>\n",
    "\n",
    "**Data criação**:  20/06/2023 <br>\n",
    "**Data Alteração**: xx/xx/xxx  <br>\n",
    "**Alteração Feita**:  xxxxxxxxxxx<br>\n",
    "**Resp. pela alteração**: xxxxxxx<br>\n",
    "\n",
    "<b><i>Versão: 1.0</i></b>"
   ]
  },
  {
   "cell_type": "markdown",
   "id": "1567d25c",
   "metadata": {},
   "source": [
    "### Criando uma lista"
   ]
  },
  {
   "cell_type": "code",
   "execution_count": 1,
   "id": "1abb9ee6",
   "metadata": {},
   "outputs": [
    {
     "data": {
      "text/plain": [
       "[1, 2, 3, 4, 5, 6]"
      ]
     },
     "execution_count": 1,
     "metadata": {},
     "output_type": "execute_result"
    }
   ],
   "source": [
    "#Criando uma lista com números\n",
    "numeros = [1, 2, 3, 4, 5, 6]\n",
    "\n",
    "numeros"
   ]
  },
  {
   "cell_type": "code",
   "execution_count": 32,
   "id": "4aada1ac",
   "metadata": {},
   "outputs": [
    {
     "data": {
      "text/plain": [
       "list"
      ]
     },
     "execution_count": 32,
     "metadata": {},
     "output_type": "execute_result"
    }
   ],
   "source": [
    "type(numeros)"
   ]
  },
  {
   "cell_type": "code",
   "execution_count": 2,
   "id": "5bc3194c",
   "metadata": {},
   "outputs": [
    {
     "name": "stdout",
     "output_type": "stream",
     "text": [
      "['maçã', 'banana', 'laranja']\n"
     ]
    }
   ],
   "source": [
    "# criando uma lista com texto\n",
    "frutas = [\"maçã\", \"banana\", \"laranja\"]\n",
    "print(frutas)\n"
   ]
  },
  {
   "cell_type": "code",
   "execution_count": 3,
   "id": "b2cab0bc",
   "metadata": {},
   "outputs": [
    {
     "name": "stdout",
     "output_type": "stream",
     "text": [
      "85 92 78 90\n"
     ]
    }
   ],
   "source": [
    "# Atribuir cada valor da lista a uma variável e imprimi-las em seguida.\n",
    "\n",
    "notas = [85, 92, 78, 90]\n",
    "nota1, nota2, nota3, nota4 = notas\n",
    "\n",
    "print(nota1, nota2, nota3, nota4)\n"
   ]
  },
  {
   "cell_type": "code",
   "execution_count": 7,
   "id": "703d34b6",
   "metadata": {},
   "outputs": [
    {
     "name": "stdout",
     "output_type": "stream",
     "text": [
      "['vermelho', 'amarelo', 'azul']\n"
     ]
    }
   ],
   "source": [
    "# Atualizar um item de uma lista\n",
    "\n",
    "cores = [\"vermelho\", \"verde\", \"azul\"]\n",
    "cores[1] = \"amarelo\"\n",
    "\n",
    "print(cores)\n"
   ]
  },
  {
   "cell_type": "code",
   "execution_count": 8,
   "id": "026f0d82",
   "metadata": {},
   "outputs": [
    {
     "name": "stdout",
     "output_type": "stream",
     "text": [
      "['cachorro', 'peixe']\n"
     ]
    }
   ],
   "source": [
    "# Deletando um item de uma lista\n",
    "animais = [\"cachorro\", \"gato\", \"peixe\"]\n",
    "\n",
    "del animais[1]\n",
    "\n",
    "print(animais)\n",
    "\n"
   ]
  },
  {
   "cell_type": "code",
   "execution_count": 9,
   "id": "a3daa3bc",
   "metadata": {},
   "outputs": [
    {
     "name": "stdout",
     "output_type": "stream",
     "text": [
      "[[1, 2, 3], [4, 5, 6], [7, 8, 9]]\n"
     ]
    }
   ],
   "source": [
    "# criando listas aninhadas\n",
    "matriz = [[1, 2, 3], [4, 5, 6], [7, 8, 9]]\n",
    "\n",
    "print (matriz)\n"
   ]
  },
  {
   "cell_type": "code",
   "execution_count": 11,
   "id": "cf71782b",
   "metadata": {},
   "outputs": [
    {
     "name": "stdout",
     "output_type": "stream",
     "text": [
      "6\n"
     ]
    }
   ],
   "source": [
    "# Acessando elementos em listas aninhadas\n",
    "\n",
    "matriz = [[1, 2, 3], [4, 5, 6], [7, 8, 9]]\n",
    "elemento = matriz[1][2]  # Acessa o elemento 6\n",
    "\n",
    "print(elemento)\n"
   ]
  },
  {
   "cell_type": "code",
   "execution_count": 14,
   "id": "1eb7ac7a",
   "metadata": {},
   "outputs": [
    {
     "name": "stdout",
     "output_type": "stream",
     "text": [
      "[1, 2, 3, 4, 5, 6]\n"
     ]
    }
   ],
   "source": [
    "# operações com listas: concatenação\n",
    "\n",
    "numeros1 = [1, 2, 3]\n",
    "numeros2 = [4, 5, 6]\n",
    "\n",
    "concatenar_listas = numeros1 + numeros2\n",
    "\n",
    "print(concatenar_listas)\n"
   ]
  },
  {
   "cell_type": "code",
   "execution_count": 15,
   "id": "92aeeffb",
   "metadata": {},
   "outputs": [
    {
     "name": "stdout",
     "output_type": "stream",
     "text": [
      "5\n"
     ]
    }
   ],
   "source": [
    "# operações com listas: soma\n",
    "\n",
    "numeros1 = [1, 2, 3]\n",
    "numeros2 = [4, 5, 6]\n",
    "\n",
    "# referenciar os índices.\n",
    "soma = numeros1[0] + numeros2[0]\n",
    "\n",
    "print(soma)"
   ]
  },
  {
   "cell_type": "code",
   "execution_count": 17,
   "id": "c6a5ebde",
   "metadata": {},
   "outputs": [
    {
     "name": "stdout",
     "output_type": "stream",
     "text": [
      "True\n"
     ]
    }
   ],
   "source": [
    "# Utilização do operador in\n",
    "\n",
    "frutas = [\"maçã\", \"banana\", \"laranja\"]\n",
    "\n",
    "existe_banana = \"banana\" in frutas\n",
    "\n",
    "print(existe_banana)\n"
   ]
  },
  {
   "cell_type": "code",
   "execution_count": 19,
   "id": "04dee390",
   "metadata": {},
   "outputs": [
    {
     "name": "stdout",
     "output_type": "stream",
     "text": [
      "5\n",
      "20\n",
      "3\n"
     ]
    }
   ],
   "source": [
    "#Funções len(), max(), min():\n",
    "\n",
    "numeros = [10, 5, 8, 20, 3]\n",
    "\n",
    "tamanho = len(numeros)\n",
    "\n",
    "maior_valor = max(numeros)\n",
    "\n",
    "menor_valor = min(numeros)\n",
    "\n",
    "print(tamanho)\n",
    "print(maior_valor)\n",
    "print(menor_valor)\n"
   ]
  },
  {
   "cell_type": "code",
   "execution_count": 20,
   "id": "4ab29e97",
   "metadata": {},
   "outputs": [
    {
     "name": "stdout",
     "output_type": "stream",
     "text": [
      "[85, 92, 78, 90]\n"
     ]
    }
   ],
   "source": [
    "# Adicionar elementos a lista:\n",
    "\n",
    "notas = [85, 92, 78]\n",
    "\n",
    "notas.append(90)\n",
    "\n",
    "print(notas)\n"
   ]
  },
  {
   "cell_type": "code",
   "execution_count": 21,
   "id": "6b6bcea0",
   "metadata": {},
   "outputs": [
    {
     "name": "stdout",
     "output_type": "stream",
     "text": [
      "2\n"
     ]
    }
   ],
   "source": [
    "# contando elementos em uma lista\n",
    "frutas = [\"maçã\", \"banana\", \"laranja\", \"banana\"]\n",
    "\n",
    "quantidade_bananas = frutas.count(\"banana\")\n",
    "\n",
    "print(quantidade_bananas)\n"
   ]
  },
  {
   "cell_type": "code",
   "execution_count": 22,
   "id": "96c73cfa",
   "metadata": {},
   "outputs": [
    {
     "name": "stdout",
     "output_type": "stream",
     "text": [
      "[]\n"
     ]
    }
   ],
   "source": [
    "# criando uma lista vazia\n",
    "lista_vazia = []\n",
    "\n",
    "print(lista_vazia)"
   ]
  },
  {
   "cell_type": "code",
   "execution_count": 23,
   "id": "c7e50c74",
   "metadata": {},
   "outputs": [
    {
     "name": "stdout",
     "output_type": "stream",
     "text": [
      "cachorro\n",
      "gato\n",
      "peixe\n"
     ]
    }
   ],
   "source": [
    "# iterando sobre uma lista\n",
    "# caso 1.\n",
    "\n",
    "animais = [\"cachorro\", \"gato\", \"peixe\"]\n",
    "for animal in animais:\n",
    "    print(animal)\n"
   ]
  },
  {
   "cell_type": "code",
   "execution_count": 25,
   "id": "ba9e1d77",
   "metadata": {},
   "outputs": [
    {
     "name": "stdout",
     "output_type": "stream",
     "text": [
      "cachorro\n",
      "gato\n",
      "peixe\n"
     ]
    }
   ],
   "source": [
    "# iterando sobre uma lista\n",
    "# caso 2.\n",
    "# usano nomenclatura i.(elemento): notação matemática\n",
    "\n",
    "animais = [\"cachorro\", \"gato\", \"peixe\"]\n",
    "for i in animais:\n",
    "    print(i)"
   ]
  },
  {
   "cell_type": "code",
   "execution_count": 31,
   "id": "c2209c16",
   "metadata": {},
   "outputs": [
    {
     "name": "stdout",
     "output_type": "stream",
     "text": [
      "lista sem alterações [3, 1, 4, 1, 5, 9]\n",
      "valor inserido na posição 2 [3, 1, 2, 4, 1, 5, 9]\n",
      "valor 4 removido [3, 1, 2, 1, 5, 9]\n",
      "valor invertido da lista [9, 5, 1, 2, 1, 3]\n",
      "valor ordenados [1, 1, 2, 3, 5, 9]\n"
     ]
    }
   ],
   "source": [
    "#Usando a função insert(), remove(), reverse(), sort()\n",
    "\n",
    "numeros = [3, 1, 4, 1, 5, 9]\n",
    "print(\"lista sem alterações\", numeros)\n",
    "\n",
    "\n",
    "numeros.insert(2, 2)  # Insere o valor 2 na posição 2\n",
    "print(\"valor inserido na posição 2\", numeros)\n",
    "\n",
    "numeros.remove(4)     # Remove o valor 4\n",
    "print(\"valor 4 removido\", numeros)\n",
    "\n",
    "numeros.reverse()     # Inverte a ordem dos elementos\n",
    "print(\"valor invertido da lista\", numeros)\n",
    "\n",
    "numeros.sort()        # Ordena os elementos em ordem crescente\n",
    "print(\"valores ordenados\", numeros)\n",
    "\n"
   ]
  },
  {
   "cell_type": "code",
   "execution_count": 33,
   "id": "74c471a9",
   "metadata": {},
   "outputs": [],
   "source": [
    "# Copiando os itens de uma lista para outra\n",
    "original = [1, 2, 3, 4, 5]\n",
    "\n",
    "copia = original.copy()\n"
   ]
  },
  {
   "cell_type": "code",
   "execution_count": 35,
   "id": "88c1d844",
   "metadata": {},
   "outputs": [
    {
     "name": "stdout",
     "output_type": "stream",
     "text": [
      "Lista Original: [10, 'hello', 3.14, True, 'python']\n",
      "Lista Destino: [42, 'world', 10, 'hello', 3.14, True, 'python']\n"
     ]
    }
   ],
   "source": [
    "# copiando os itens de uma lista para outra lista já existente.\n",
    "\n",
    "lista_original = [10, \"hello\", 3.14, True, \"python\"]\n",
    "lista_destino = [42, \"world\"]\n",
    "\n",
    "for item in lista_original:\n",
    "    lista_destino.append(item)\n",
    "\n",
    "print(\"Lista Original:\", lista_original)\n",
    "print(\"Lista Destino:\", lista_destino)\n",
    "\n"
   ]
  }
 ],
 "metadata": {
  "kernelspec": {
   "display_name": "Python 3 (ipykernel)",
   "language": "python",
   "name": "python3"
  },
  "language_info": {
   "codemirror_mode": {
    "name": "ipython",
    "version": 3
   },
   "file_extension": ".py",
   "mimetype": "text/x-python",
   "name": "python",
   "nbconvert_exporter": "python",
   "pygments_lexer": "ipython3",
   "version": "3.10.9"
  }
 },
 "nbformat": 4,
 "nbformat_minor": 5
}
